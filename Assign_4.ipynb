{
 "cells": [
  {
   "cell_type": "markdown",
   "metadata": {},
   "source": [
    "# Header"
   ]
  },
  {
   "cell_type": "code",
   "execution_count": 1,
   "metadata": {},
   "outputs": [],
   "source": [
    "import numpy as np\n",
    "import matplotlib.pyplot as plt\n",
    "import spinmob as s\n",
    "from scipy import interpolate as interpolate\n",
    "from scipy import integrate as integrate\n",
    "import os\n",
    "import camb\n",
    "import time\n",
    "#%matplotlib notebook"
   ]
  },
  {
   "cell_type": "code",
   "execution_count": 2,
   "metadata": {},
   "outputs": [
    {
     "data": {
      "text/plain": [
       "'D:\\\\Raphael\\\\Dropbox\\\\Mcgill\\\\JupyterNotebook\\\\PHYS512'"
      ]
     },
     "execution_count": 2,
     "metadata": {},
     "output_type": "execute_result"
    }
   ],
   "source": [
    "# check directory\n",
    "os.chdir(\"D:\\Raphael\\Dropbox\\Mcgill\\JupyterNotebook\\PHYS512\")\n",
    "os.getcwd()"
   ]
  },
  {
   "cell_type": "markdown",
   "metadata": {},
   "source": [
    "## Fonctions"
   ]
  },
  {
   "cell_type": "code",
   "execution_count": 3,
   "metadata": {},
   "outputs": [],
   "source": [
    "# Gaussian fonction\n",
    "def Gaus(x,a,b,c):\n",
    "    return a*np.exp(-(x-b)**2/(2*c**2))"
   ]
  },
  {
   "cell_type": "code",
   "execution_count": 4,
   "metadata": {},
   "outputs": [],
   "source": [
    "# Box fonction\n",
    "def Box(x,a=1,b=0,c=1):\n",
    "    box = np.zeros(len(x))\n",
    "    for i in range(len(x)):\n",
    "        if x[i]<=(b-c/2):\n",
    "            box[i] = 0\n",
    "        elif x[i]>=(b+c/2):\n",
    "            box[i] = 0\n",
    "        else:\n",
    "            box[i] = a\n",
    "    return box"
   ]
  },
  {
   "cell_type": "markdown",
   "metadata": {},
   "source": [
    "# Question 1\n",
    "Write a function that will shift an array by an arbitrary amount using a convolution (yes, I know there are easier ways to do this). The function should take 2 arguments - an array, and an amount by which to shift the array. Plot a gaussian that started in the centre of the array shifted by half the array length."
   ]
  },
  {
   "cell_type": "code",
   "execution_count": 159,
   "metadata": {},
   "outputs": [],
   "source": [
    "# Shifting fonction\n",
    "def shift(A,dx):\n",
    "    \n",
    "    # Define a shifter; a \"box function\" array offset from 0 by dx:\n",
    "    if dx>=0:\n",
    "        shifter = np.append(np.zeros(dx),np.array(1))\n",
    "        # Convolute the shifter with A[1]:\n",
    "        shifted = np.convolve(shifter,A[1],mode=\"full\")[:-dx]\n",
    "        # Note: the [:-dx] assures that \"shifted\" has the same lenght that \"A[0]\"\n",
    "    if dx<0:\n",
    "        shifter = np.append(np.array([1]),np.zeros(-dx))\n",
    "        # Convolute the shifter with A[1]:\n",
    "        shifted = np.convolve(shifter,A[1],mode=\"full\")[-dx:]\n",
    "        # Note: the [-dx:] assures that \"shifted\" has the same lenght that \"A[0]\"\n",
    "    \n",
    "    # Return the shifted A[1]:\n",
    "    return np.array([A[0],shifted])"
   ]
  },
  {
   "cell_type": "code",
   "execution_count": 160,
   "metadata": {
    "scrolled": false
   },
   "outputs": [
    {
     "data": {
      "text/plain": [
       "<matplotlib.legend.Legend at 0x2308a5f6e48>"
      ]
     },
     "execution_count": 160,
     "metadata": {},
     "output_type": "execute_result"
    },
    {
     "data": {
      "image/png": "[encoded data removed]",
      "text/plain": [
       "<Figure size 432x288 with 1 Axes>"
      ]
     },
     "metadata": {
      "needs_background": "light"
     },
     "output_type": "display_data"
    }
   ],
   "source": [
    "# Create the array for the Gausian test\n",
    "size = 201\n",
    "t0 = -50\n",
    "tf = 150\n",
    "x = np.linspace(t0,tf, size)\n",
    "g1 = Gaus(x,1,0,5)\n",
    "array_g1 = np.array([x,g1])\n",
    "\n",
    "# Shift the gaussian by half the using the Shift() fonction\n",
    "array_g2 = shift(array_g1, int(len(array_g1[0])/2))\n",
    "plt.plot(array_g1[0],array_g1[1],\"r\", label = \"Initial\")\n",
    "plt.plot(array_g2[0],array_g2[1],\"b\", label = \"Shifted\")\n",
    "plt.legend()"
   ]
  },
  {
   "cell_type": "code",
   "execution_count": 161,
   "metadata": {},
   "outputs": [
    {
     "data": {
      "text/plain": [
       "<matplotlib.legend.Legend at 0x2308a6505c0>"
      ]
     },
     "execution_count": 161,
     "metadata": {},
     "output_type": "execute_result"
    },
    {
     "data": {
      "image/png": "[encoded data removed]",
      "text/plain": [
       "<Figure size 432x288 with 1 Axes>"
      ]
     },
     "metadata": {
      "needs_background": "light"
     },
     "output_type": "display_data"
    }
   ],
   "source": [
    "#Lets check that the function also works with neg. shift:\n",
    "size = 201\n",
    "t0 = -150\n",
    "tf = 50\n",
    "x = np.linspace(t0,tf, size)\n",
    "g1 = Gaus(x,1,0,5)\n",
    "array_g1 = np.array([x,g1])\n",
    "\n",
    "# Shift the gaussian by half the using the Shift() fonction\n",
    "array_g2 = shift(array_g1, -int(len(array_g1[0])/2))\n",
    "plt.plot(array_g1[0],array_g1[1],\"r\", label = \"Initial\")\n",
    "plt.plot(array_g2[0],array_g2[1],\"b\", label = \"Shifted\")\n",
    "plt.legend()"
   ]
  },
  {
   "cell_type": "markdown",
   "metadata": {},
   "source": [
    "# Question 2\n",
    "The correlation function $f\\star g$ is $\\int f(x)g(x+y)dx$. Through a similar proof, one can show $f\\star g = if t(df t(f) ∗ conj(df t(g)))$. Write a routine to take the correlation function of two arrays. Plot the correlation function of a Gaussian with itself."
   ]
  },
  {
   "cell_type": "code",
   "execution_count": null,
   "metadata": {},
   "outputs": [],
   "source": []
  },
  {
   "cell_type": "markdown",
   "metadata": {},
   "source": [
    "# Question 3\n",
    "Using the results of part 1 and part 2, write a routine to take the correlation function of a Gaussian (shifted by an arbitrary amount) with itself. How does the correlation function depend on the shift? Does this surprise you?"
   ]
  },
  {
   "cell_type": "code",
   "execution_count": null,
   "metadata": {},
   "outputs": [],
   "source": []
  },
  {
   "cell_type": "markdown",
   "metadata": {},
   "source": [
    "# Question 4\n",
    "The circulant (wrap-around) nature of the dft can sometimes be problematic. Write a routine to take the convolution of two arrays without any danger of wrapping around. You may wish to add zeros to the end of the input arrays."
   ]
  },
  {
   "cell_type": "code",
   "execution_count": null,
   "metadata": {},
   "outputs": [],
   "source": []
  },
  {
   "cell_type": "markdown",
   "metadata": {},
   "source": [
    "# Question 5\n",
    "DFTs work very nicely out of the box when there are an integer number of periods of a wave in the region analyzed. Sadly, when we are dealing with real data, we usually are forced to analyze a finite chunk of data, and there will in general be no particular relation between the frequencies in the data and the interval we’re analyzing. We’ll look at the effects of this a bit now."
   ]
  },
  {
   "cell_type": "markdown",
   "metadata": {},
   "source": [
    "(...)"
   ]
  },
  {
   "cell_type": "code",
   "execution_count": null,
   "metadata": {},
   "outputs": [],
   "source": []
  }
 ],
 "metadata": {
  "kernelspec": {
   "display_name": "Python 3",
   "language": "python",
   "name": "python3"
  },
  "language_info": {
   "codemirror_mode": {
    "name": "ipython",
    "version": 3
   },
   "file_extension": ".py",
   "mimetype": "text/x-python",
   "name": "python",
   "nbconvert_exporter": "python",
   "pygments_lexer": "ipython3",
   "version": "3.7.3"
  }
 },
 "nbformat": 4,
 "nbformat_minor": 2
}
