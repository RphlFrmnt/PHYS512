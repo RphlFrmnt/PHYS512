{
 "cells": [
  {
   "cell_type": "markdown",
   "metadata": {},
   "source": [
    "# Header"
   ]
  },
  {
   "cell_type": "code",
   "execution_count": 2,
   "metadata": {},
   "outputs": [],
   "source": [
    "import numpy as np\n",
    "import matplotlib.pyplot as plt\n",
    "import spinmob as s\n",
    "from scipy import interpolate as interpolate\n",
    "from scipy import integrate as integrate\n",
    "import os\n",
    "import camb\n",
    "import time\n",
    "#%matplotlib notebook"
   ]
  },
  {
   "cell_type": "code",
   "execution_count": 3,
   "metadata": {},
   "outputs": [
    {
     "data": {
      "text/plain": [
       "'D:\\\\Raphael\\\\Dropbox\\\\Mcgill\\\\JupyterNotebook\\\\PHYS512'"
      ]
     },
     "execution_count": 3,
     "metadata": {},
     "output_type": "execute_result"
    }
   ],
   "source": [
    "# check directory\n",
    "os.chdir(\"D:\\Raphael\\Dropbox\\Mcgill\\JupyterNotebook\\PHYS512\")\n",
    "os.getcwd()"
   ]
  },
  {
   "cell_type": "markdown",
   "metadata": {},
   "source": [
    "## Fonctions"
   ]
  },
  {
   "cell_type": "code",
   "execution_count": 4,
   "metadata": {},
   "outputs": [],
   "source": [
    "# Gaussian fonction\n",
    "def Gaus(x,a,b,c):\n",
    "    return a*np.exp(-(x-b)**2/(2*c**2))"
   ]
  },
  {
   "cell_type": "code",
   "execution_count": 5,
   "metadata": {},
   "outputs": [],
   "source": [
    "# Box fonction\n",
    "def Box(x,a=1,b=0,c=1):\n",
    "    box = np.zeros(len(x))\n",
    "    for i in range(len(x)):\n",
    "        if x[i]<=(b-c/2):\n",
    "            box[i] = 0\n",
    "        elif x[i]>=(b+c/2):\n",
    "            box[i] = 0\n",
    "        else:\n",
    "            box[i] = a\n",
    "    return box"
   ]
  },
  {
   "cell_type": "markdown",
   "metadata": {},
   "source": [
    "# Question 1 (DONE)\n",
    "Write a function that will shift an array by an arbitrary amount using a convolution (yes, I know there are easier ways to do this). The function should take 2 arguments - an array, and an amount by which to shift the array. Plot a gaussian that started in the centre of the array shifted by half the array length."
   ]
  },
  {
   "cell_type": "code",
   "execution_count": 6,
   "metadata": {},
   "outputs": [],
   "source": [
    "# Shifting fonction\n",
    "def shift(A,dx):\n",
    "    \n",
    "    # Define a shifter; a \"box function\" array offset from 0 by dx:\n",
    "    if dx>=0:\n",
    "        shifter = np.append(np.zeros(dx),np.array(1))\n",
    "        # Convolute the shifter with A[1]:\n",
    "        shifted = np.convolve(shifter,A[1],mode=\"full\")[:-dx]\n",
    "        # Note: the [:-dx] assures that \"shifted\" has the same lenght that \"A[0]\"\n",
    "    if dx<0:\n",
    "        shifter = np.append(np.array([1]),np.zeros(-dx))\n",
    "        # Convolute the shifter with A[1]:\n",
    "        shifted = np.convolve(shifter,A[1],mode=\"full\")[-dx:]\n",
    "        # Note: the [-dx:] assures that \"shifted\" has the same lenght that \"A[0]\"\n",
    "    \n",
    "    # Return the shifted A[1]:\n",
    "    return np.array([A[0],shifted])"
   ]
  },
  {
   "cell_type": "code",
   "execution_count": 7,
   "metadata": {
    "scrolled": false
   },
   "outputs": [
    {
     "data": {
      "text/plain": [
       "<matplotlib.legend.Legend at 0x22ee06e4a90>"
      ]
     },
     "execution_count": 7,
     "metadata": {},
     "output_type": "execute_result"
    },
    {
     "data": {
      "image/png": "[encoded data removed]",
      "text/plain": [
       "<Figure size 432x288 with 1 Axes>"
      ]
     },
     "metadata": {
      "needs_background": "light"
     },
     "output_type": "display_data"
    }
   ],
   "source": [
    "# Create the array for the Gausian test\n",
    "size = 201\n",
    "t0 = -50\n",
    "tf = 150\n",
    "x = np.linspace(t0,tf, size)\n",
    "g1 = Gaus(x,1,0,5)\n",
    "array_g1 = np.array([x,g1])\n",
    "\n",
    "# Shift the gaussian by half the using the Shift() fonction\n",
    "array_g2 = shift(array_g1, int(len(array_g1[0])/2))\n",
    "plt.plot(array_g1[0],array_g1[1],\"r\", label = \"Initial\")\n",
    "plt.plot(array_g2[0],array_g2[1],\"b\", label = \"Shifted\")\n",
    "plt.legend()"
   ]
  },
  {
   "cell_type": "code",
   "execution_count": 8,
   "metadata": {},
   "outputs": [
    {
     "data": {
      "text/plain": [
       "<matplotlib.legend.Legend at 0x22ee0780748>"
      ]
     },
     "execution_count": 8,
     "metadata": {},
     "output_type": "execute_result"
    },
    {
     "data": {
      "image/png": "[encoded data removed]",
      "text/plain": [
       "<Figure size 432x288 with 1 Axes>"
      ]
     },
     "metadata": {
      "needs_background": "light"
     },
     "output_type": "display_data"
    }
   ],
   "source": [
    "#Lets check that the function also works with neg. shift:\n",
    "size = 201\n",
    "t0 = -150\n",
    "tf = 50\n",
    "x = np.linspace(t0,tf, size)\n",
    "g1 = Gaus(x,1,0,5)\n",
    "array_g1 = np.array([x,g1])\n",
    "\n",
    "# Shift the gaussian by half the using the Shift() fonction\n",
    "array_g2 = shift(array_g1, -int(len(array_g1[0])/2))\n",
    "plt.plot(array_g1[0],array_g1[1],\"r\", label = \"Initial\")\n",
    "plt.plot(array_g2[0],array_g2[1],\"b\", label = \"Shifted\")\n",
    "plt.legend()"
   ]
  },
  {
   "cell_type": "markdown",
   "metadata": {},
   "source": [
    "# Question 2 (DONE)\n",
    "The correlation function $f\\star g$ is $\\int f(x)g(x+y)dx$. Through a similar proof, one can show $f\\star g = if t(df t(f) ∗ conj(df t(g)))$. Write a routine to take the correlation function of two arrays. Plot the correlation function of a Gaussian with itself."
   ]
  },
  {
   "cell_type": "code",
   "execution_count": 74,
   "metadata": {},
   "outputs": [],
   "source": [
    "# Define correlation fonction\n",
    "def Corr(A,B):\n",
    "    C =  np.fft.ifft(np.fft.fft(A[1]) * np.conjugate(np.fft.fft(B[1])))\n",
    "    return np.array([A[0],C])"
   ]
  },
  {
   "cell_type": "code",
   "execution_count": 80,
   "metadata": {
    "scrolled": false
   },
   "outputs": [
    {
     "data": {
      "text/plain": [
       "[<matplotlib.lines.Line2D at 0x22e82cc1be0>]"
      ]
     },
     "execution_count": 80,
     "metadata": {},
     "output_type": "execute_result"
    },
    {
     "data": {
      "image/png": "[encoded data removed]",
      "text/plain": [
       "<Figure size 432x288 with 1 Axes>"
      ]
     },
     "metadata": {
      "needs_background": "light"
     },
     "output_type": "display_data"
    }
   ],
   "source": [
    "#define gaussian fonction\n",
    "size = 201\n",
    "t0 = -100\n",
    "tf = 100\n",
    "x = np.linspace(t0,tf, size)\n",
    "g1 = Gaus(x,1,0,5)\n",
    "array_g1 = np.array([x,g1])\n",
    "\n",
    "#Correlate the gaussian with itself\n",
    "array_g2 = Corr(array_g1,array_g1)\n",
    "plt.plot(array_g2[0],array_g2[1])"
   ]
  },
  {
   "cell_type": "markdown",
   "metadata": {},
   "source": [
    "# Question 3 (Surprise?)\n",
    "Using the results of part 1 and part 2, write a routine to take the correlation function of a Gaussian (shifted by an arbitrary amount) with itself. How does the correlation function depend on the shift? Does this surprise you?"
   ]
  },
  {
   "cell_type": "code",
   "execution_count": 83,
   "metadata": {},
   "outputs": [
    {
     "data": {
      "text/plain": [
       "<matplotlib.legend.Legend at 0x22e88b53400>"
      ]
     },
     "execution_count": 83,
     "metadata": {},
     "output_type": "execute_result"
    },
    {
     "data": {
      "image/png": "[encoded data removed]",
      "text/plain": [
       "<Figure size 432x288 with 1 Axes>"
      ]
     },
     "metadata": {
      "needs_background": "light"
     },
     "output_type": "display_data"
    }
   ],
   "source": [
    "#Generate the first gaussian\n",
    "size = 201\n",
    "t0 = -100\n",
    "tf = 100\n",
    "x = np.linspace(t0,tf, size)\n",
    "g1 = Gaus(x,1,0,5)\n",
    "array_g1 = np.array([x,g1])\n",
    "#Generate shifted gaussians with different shift\n",
    "array_g2_10 = shift(array_g1, 10)\n",
    "array_g2_25 = shift(array_g1, 25)\n",
    "array_g2_50 = shift(array_g1, 50)\n",
    "array_g2_m40 = shift(array_g1, -40)\n",
    "#plot the created gaussians\n",
    "plt.plot(array_g1[0],array_g1[1],\"r\", label = \"Initial\")\n",
    "plt.plot(array_g2_10[0],array_g2_10[1],\"b\", label = \"Shifted : 10\")\n",
    "plt.plot(array_g2_25[0],array_g2_25[1],\"y\", label = \"Shifted : 25\")\n",
    "plt.plot(array_g2_50[0],array_g2_50[1],\"k\", label = \"Shifted : 50\")\n",
    "plt.plot(array_g2_m40[0],array_g2_m40[1],\"g\", label = \"Shifted : -40\")\n",
    "plt.legend()"
   ]
  },
  {
   "cell_type": "code",
   "execution_count": 86,
   "metadata": {
    "scrolled": false
   },
   "outputs": [
    {
     "data": {
      "text/plain": [
       "<matplotlib.legend.Legend at 0x22e88cddf28>"
      ]
     },
     "execution_count": 86,
     "metadata": {},
     "output_type": "execute_result"
    },
    {
     "data": {
      "image/png": "[encoded data removed]",
      "text/plain": [
       "<Figure size 432x288 with 1 Axes>"
      ]
     },
     "metadata": {
      "needs_background": "light"
     },
     "output_type": "display_data"
    }
   ],
   "source": [
    "# Now correlate both gaussians\n",
    "array_g3 = Corr(array_g1,array_g1)\n",
    "array_g3_10 = Corr(array_g1,array_g2_10)\n",
    "array_g3_25 = Corr(array_g1,array_g2_25)\n",
    "array_g3_50 = Corr(array_g1,array_g2_50)\n",
    "array_g3_m40 = Corr(array_g1,array_g2_m40)\n",
    "plt.plot(array_g3[0],array_g3[1],\"b\",label=\"Shift = 0\")\n",
    "plt.plot(array_g3_10[0],array_g3_10[1],\"r\",label=\"Shift = 10\")\n",
    "plt.plot(array_g3_25[0],array_g3_25[1],\"y\",label=\"Shift = 25\")\n",
    "plt.plot(array_g3_50[0],array_g3_50[1],\"k\",label=\"Shift = 50\")\n",
    "plt.plot(array_g3_m40[0],array_g3_m40[1],\"g\",label=\"Shift = -40\")\n",
    "plt.legend()"
   ]
  },
  {
   "cell_type": "markdown",
   "metadata": {},
   "source": [
    "The correlation is shifted as much as the second gaussian was shifted. "
   ]
  },
  {
   "cell_type": "markdown",
   "metadata": {},
   "source": [
    "# Question 4\n",
    "The circulant (wrap-around) nature of the dft can sometimes be problematic. Write a routine to take the convolution of two arrays without any danger of wrapping around. You may wish to add zeros to the end of the input arrays."
   ]
  },
  {
   "cell_type": "code",
   "execution_count": 117,
   "metadata": {},
   "outputs": [],
   "source": [
    "# Define a convolution fonction without wrapping\n",
    "def Conv_zero(A,B):\n",
    "    dx = len(A[0])\n",
    "    A_zeros = np.zeros(shape = (2, 3*dx))\n",
    "    B_zeros = np.zeros(shape = (2, 3*dx))\n",
    "    for i in range(2):\n",
    "        A_zeros[i] = np.append(np.append(np.zeros(dx),A[i]),np.zeros(dx))\n",
    "        B_zeros[i] = np.append(np.append(np.zeros(dx),B[i]),np.zeros(dx))\n",
    "    C =  np.fft.ifft(np.fft.fft(A_zeros[1]) * (np.fft.fft(B_zeros[1])))\n",
    "    # return the new A and B such that all A B C have the same lenght\n",
    "    return np.array([A_zeros[0],A_zeros[1],B_zeros[1],C])"
   ]
  },
  {
   "cell_type": "code",
   "execution_count": 119,
   "metadata": {},
   "outputs": [
    {
     "data": {
      "text/plain": [
       "[<matplotlib.lines.Line2D at 0x22e88ea40f0>]"
      ]
     },
     "execution_count": 119,
     "metadata": {},
     "output_type": "execute_result"
    },
    {
     "data": {
      "image/png": "[encoded data removed]",
      "text/plain": [
       "<Figure size 432x288 with 1 Axes>"
      ]
     },
     "metadata": {
      "needs_background": "light"
     },
     "output_type": "display_data"
    }
   ],
   "source": [
    "size = 201\n",
    "t0 = -100\n",
    "tf = 100\n",
    "x = np.linspace(t0,tf, size)\n",
    "g1 = Gaus(x,1,0,5)\n",
    "array_g1 = np.array([x,g1])\n",
    "\n",
    "test = Conv_zero(array_g1,array_g1)\n",
    "plt.plot(test[0],test[3])\n",
    "np."
   ]
  },
  {
   "cell_type": "markdown",
   "metadata": {},
   "source": [
    "# Question 5\n",
    "DFTs work very nicely out of the box when there are an integer number of periods of a wave in the region analyzed. Sadly, when we are dealing with real data, we usually are forced to analyze a finite chunk of data, and there will in general be no particular relation between the frequencies in the data and the interval we’re analyzing. We’ll look at the effects of this a bit now."
   ]
  },
  {
   "cell_type": "markdown",
   "metadata": {},
   "source": [
    "## a)\n",
    "Show that:\n",
    "$$\\sum_{x=0}^{N-1}\\exp(-2\\pi ikx\\big/N)=\\frac{1-\\exp(-2\\pi ik)}{1-\\exp(-2\\pi ik\\big/N)}$$\n",
    "It may help to recognize that the sum can be re-written $\\sumα^x$ where $α = \\exp(−2πik\\big/N)$ so we can treat it as the sum of a geometric series."
   ]
  },
  {
   "cell_type": "code",
   "execution_count": null,
   "metadata": {},
   "outputs": [],
   "source": []
  },
  {
   "cell_type": "markdown",
   "metadata": {},
   "source": [
    "## b)\n",
    "Show that this approaches N as k approaches zero, and is zero for any integer k that is not a multiple of N"
   ]
  },
  {
   "cell_type": "code",
   "execution_count": null,
   "metadata": {},
   "outputs": [],
   "source": []
  },
  {
   "cell_type": "markdown",
   "metadata": {},
   "source": [
    "## c)\n",
    "We can use this to analytically write down the DFT of a non-integer sine wave. Pick a non-integer value of k and plot your analytic estimate of the DFT. Show that the FFT agrees (to within machine precision) with your analytic estimate. Normally, we think of the Fourier transform of a pure sine wave to be a delta function. Are we close to that? This phenomenon is usually known as _spectral leakage_."
   ]
  },
  {
   "cell_type": "code",
   "execution_count": null,
   "metadata": {},
   "outputs": [],
   "source": []
  },
  {
   "cell_type": "markdown",
   "metadata": {},
   "source": [
    "## d)\n",
    "A common tool to get around this is the use of window functions. The leakage essentially comes from the fact that we have a sharp jump at the edge of the interval. If we multiply our input data by a function that goes to zero 1 at the edges, this cancels out the jump, and so prevents the leakage from the jumps at the edges. Of course, since we have multiplied by the window in real space, we have convolved by it in Fourier space. One simple window we could use is $0.5 − 0.5 \\cos(2πx/N)$ (there are many, many choices). Show that when we multiply by this window, the spectral leakage for a non-integer period sine wave drops dramatically"
   ]
  },
  {
   "cell_type": "code",
   "execution_count": null,
   "metadata": {},
   "outputs": [],
   "source": []
  },
  {
   "cell_type": "markdown",
   "metadata": {},
   "source": [
    "## e)\n",
    "Show that the Fourier transform of the window is [N/2 N/4 0 ... 0 N/4] (either numerically or analytically). Use this to show that you can get the windowed Fourier transform by appropriate combinations of each point in the unwindowed Fourier transform and its immediate neighbors (you may need to be careful with signs here, since if you work through the math, some of the transforms need to be inverse FFTs). The choice of suitable windows is as much art as science (and depends on the details of what you’re most concerned about), but I hope this gives at flavor of what’s going on."
   ]
  },
  {
   "cell_type": "code",
   "execution_count": null,
   "metadata": {},
   "outputs": [],
   "source": []
  }
 ],
 "metadata": {
  "kernelspec": {
   "display_name": "Python 3",
   "language": "python",
   "name": "python3"
  },
  "language_info": {
   "codemirror_mode": {
    "name": "ipython",
    "version": 3
   },
   "file_extension": ".py",
   "mimetype": "text/x-python",
   "name": "python",
   "nbconvert_exporter": "python",
   "pygments_lexer": "ipython3",
   "version": "3.7.3"
  }
 },
 "nbformat": 4,
 "nbformat_minor": 2
}
