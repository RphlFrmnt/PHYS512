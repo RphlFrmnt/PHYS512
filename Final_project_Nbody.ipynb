{
 "cells": [
  {
   "cell_type": "markdown",
   "metadata": {},
   "source": [
    "# Header"
   ]
  },
  {
   "cell_type": "code",
   "execution_count": 1,
   "metadata": {},
   "outputs": [],
   "source": [
    "import os\n",
    "import cv2\n",
    "import glob\n",
    "\n",
    "import matplotlib.pyplot as plt\n",
    "from mpl_toolkits.mplot3d import Axes3D\n",
    "from mpl_toolkits.axes_grid1 import make_axes_locatable\n",
    "%matplotlib inline\n",
    "\n",
    "import numpy as np\n",
    "import scipy as s\n",
    "import scipy.signal as sig"
   ]
  },
  {
   "cell_type": "code",
   "execution_count": 2,
   "metadata": {},
   "outputs": [
    {
     "data": {
      "text/plain": [
       "'D:\\\\Raphael\\\\Dropbox\\\\Mcgill\\\\JupyterNotebook\\\\PHYS512'"
      ]
     },
     "execution_count": 2,
     "metadata": {},
     "output_type": "execute_result"
    }
   ],
   "source": [
    "# Check directory\n",
    "os.chdir(\"D:\\Raphael\\Dropbox\\Mcgill\\JupyterNotebook\\PHYS512\")\n",
    "os.getcwd()"
   ]
  },
  {
   "cell_type": "markdown",
   "metadata": {},
   "source": [
    "# Functions"
   ]
  },
  {
   "cell_type": "code",
   "execution_count": 3,
   "metadata": {},
   "outputs": [],
   "source": [
    "# returnm some important and used much values of the histogram\n",
    "def histo_imp_val(rho, edge):\n",
    "    nx = len(rho[0]) # number of bins in x\n",
    "    ny = len(rho[1])\n",
    "    nz = len(rho[2])\n",
    "    dx = edge[0][1]-edge[0][0] # size of bin in x\n",
    "    dy = edge[1][1]-edge[1][0]\n",
    "    dz = edge[2][1]-edge[2][0]\n",
    "    minx = edge[0][0] #end of each axes\n",
    "    miny = edge[1][0]\n",
    "    minz = edge[2][0]\n",
    "    return nx,ny,nz,dx,dy,dz,minx,miny,minz"
   ]
  },
  {
   "cell_type": "code",
   "execution_count": 4,
   "metadata": {},
   "outputs": [],
   "source": [
    "# Define single ptcl softened potential (softened green's function)\n",
    "def soft_pot(rho,edge,a):\n",
    "    nx,ny,nz,dx,dy,dz,minx,miny,minz = histo_imp_val(rho, edge)\n",
    "    pot = np.zeros(shape=(nx*2-1,ny*2-1,nz*2-1))\n",
    "    for i in range(nx*2-1):\n",
    "        for j in range(ny*2-1):\n",
    "            for k in range(nz*2-1): # looking at some bin i,j,k\n",
    "                x = (i+1)*dx+2*minx # position of the center of the bin in x, given ptcl at x=0.5 (i.e at the center, since x=[0,1) )\n",
    "                y = (j+1)*dy+2*miny\n",
    "                z = (k+1)*dz+2*minz\n",
    "                r = np.sqrt(x**2+y**2+z**2+a**2) # distance btw center of bin and and particle\n",
    "                pot[i,j,k] = 1/r\n",
    "    return pot"
   ]
  },
  {
   "cell_type": "code",
   "execution_count": 5,
   "metadata": {},
   "outputs": [],
   "source": [
    "# return the ijk coordinate of a (ONE) given cell position (x_n)\n",
    "def x_to_ijk(x_n, rho, edge):\n",
    "    nx,ny,nz,dx,dy,dz,minx,miny,minz = histo_imp_val(rho, edge)\n",
    "    x = x_n[0]\n",
    "    y = x_n[1]\n",
    "    z = x_n[2]\n",
    "    i = int(round((x-minx)/dx - 0.5))\n",
    "    j = int(round((y-miny)/dy - 0.5))\n",
    "    k = int(round((z-minz)/dz - 0.5))\n",
    "    #print(i,j,k) #debugging\n",
    "    return i,j,k"
   ]
  },
  {
   "cell_type": "code",
   "execution_count": 6,
   "metadata": {},
   "outputs": [],
   "source": [
    "# return the ijk coordinate of a set of (MANY) cell position(x_n)\n",
    "def xn_to_ijk(x_n, rho, edge):\n",
    "    nx,ny,nz,dx,dy,dz,minx,miny,minz = histo_imp_val(rho, edge)\n",
    "    indices = np.zeros(shape=(len(x_n),3))\n",
    "    for n in range(len(x_n)):\n",
    "        x = x_n[n][0]\n",
    "        y = x_n[n][1]\n",
    "        z = x_n[n][2]\n",
    "        i = round((x-minx)/dx - 0.5)\n",
    "        j = round((y-miny)/dy - 0.5)\n",
    "        k = round((z-minz)/dz - 0.5)\n",
    "        indices[n]  = (i,j,k)\n",
    "    ijk = np.concatenate(indices.astype(int), axis=None)# change the ijk into int and puts them all in one axis\n",
    "    index = np.linspace(0,3*len(x_n)-1,len(x_n)*3)# make a list of index for every element in ijk\n",
    "    i_ijk = ijk[((index-0)%3)==0]\n",
    "    j_ijk = ijk[((index-1)%3)==0]\n",
    "    k_ijk = ijk[((index-2)%3)==0]\n",
    "    return [i_ijk,j_ijk,k_ijk],indices # return the element in ijk which corresponf to a i, a j, or a k"
   ]
  },
  {
   "cell_type": "code",
   "execution_count": 7,
   "metadata": {},
   "outputs": [],
   "source": [
    "# Order the elements in x_n in order of ascending x, then y, then z\n",
    "def order_x(x,rho,edge):\n",
    "    [i_ijk,j_ijk,k_ijk],indices = xn_to_ijk(x, rho, edge)\n",
    "    return x[np.lexsort((np.transpose(indices)[2],np.transpose(indices)[1],np.transpose(indices)[0]))]"
   ]
  },
  {
   "cell_type": "code",
   "execution_count": 8,
   "metadata": {},
   "outputs": [],
   "source": [
    "def ijk_to_x(i,j,k,rho,edge):\n",
    "    nx,ny,nz,dx,dy,dz,minx,miny,minz = histo_imp_val(rho, edge)\n",
    "    return np.array([[(i+0.5)*dx+minx,(j+0.5)*dy+miny,(k+0.5)*dz+minz]])"
   ]
  },
  {
   "cell_type": "code",
   "execution_count": 9,
   "metadata": {},
   "outputs": [],
   "source": [
    "# second iteration of a funcion that computes the energy of the system\n",
    "def Energy2(x,v,phi,rho,edge,m):\n",
    "    [i,j,k],indices  = xn_to_ijk(x, rho, edge)\n",
    "    K = 0.5*np.sum(m*v**2)\n",
    "    P = -0.5*np.sum(phi[i,j,k])\n",
    "    return K+P,K,P"
   ]
  },
  {
   "cell_type": "code",
   "execution_count": 10,
   "metadata": {},
   "outputs": [],
   "source": [
    "# Delete all ptcl which is outside of the bound (-1,1)\n",
    "def non_periodic(x,m,v):\n",
    "    N = len(x)\n",
    "    TF_upper_i = x > 1\n",
    "    TF_lower_i = x < -1\n",
    "    TF_upper = np.any(TF_upper_i, axis=1)\n",
    "    TF_lower = np.any(TF_lower_i, axis=1)\n",
    "    TF_i = np.row_stack((TF_upper,TF_lower))\n",
    "    TF = np.any(TF_i, axis=0)\n",
    "    x = np.delete(x,[i for i, val in enumerate(TF) if val],0)\n",
    "    m = np.delete(m,[i for i, val in enumerate(TF) if val],0)\n",
    "    v = np.delete(v,[i for i, val in enumerate(TF) if val],0)\n",
    "    return x,m,v"
   ]
  },
  {
   "cell_type": "markdown",
   "metadata": {},
   "source": [
    "## Plot functions"
   ]
  },
  {
   "cell_type": "code",
   "execution_count": 11,
   "metadata": {},
   "outputs": [],
   "source": [
    "# define function for easy visual check (thanks Marcus!)\n",
    "def plot_2D_collapse(H,edges):\n",
    "    edges_x = edges[0]\n",
    "    edges_y = edges[1]\n",
    "    edges_z = edges[2]\n",
    "    fig,ax = plt.subplots(figsize=(5,5), dpi=100)\n",
    "    im = ax.imshow(\n",
    "        H.sum(axis=2),\n",
    "        origin=\"lower\",\n",
    "        extent=(edges_x.min(), edges_x.max(), edges_y.min(), edges_y.max()), \n",
    "        aspect=\"auto\")\n",
    "    ax.set_xlabel(\"y\")\n",
    "    ax.set_ylabel(\"x\")\n",
    "    minor_ticks_x = edges_x\n",
    "    minor_ticks_y = edges_y\n",
    "    ax.set(xlim=(minor_ticks_y[0], minor_ticks_y[-1]), ylim=(minor_ticks_x[0], minor_ticks_x[-1]))\n",
    "    ax.set_xticks(minor_ticks_y, minor=True)\n",
    "    ax.set_yticks(minor_ticks_x, minor=True)\n",
    "\n",
    "    # colorbar\n",
    "    divider = make_axes_locatable(ax)\n",
    "    cax = divider.append_axes(\"right\", size=\"5%\", pad=0.05)\n",
    "    plt.colorbar(im, cax=cax)\n",
    "    \n",
    "    plt.show"
   ]
  },
  {
   "cell_type": "code",
   "execution_count": 12,
   "metadata": {},
   "outputs": [],
   "source": [
    "#Return a 3D plot of the given x\n",
    "def plot_graph3D(x, edge, title =\"\", scale_factor = 100,save=False, show = True, name = \"fig\",n = 0, view1=20,view2=60):\n",
    "    #Create figure\n",
    "    x = np.transpose(x)\n",
    "    fig=plt.figure(figsize=(10,10))#Create 3D axes\n",
    "    ax=Axes3D(fig) \n",
    "    ax.scatter(x[0], x[1], x[2], color=\"royalblue\", marker=\".\",s=.02*scale_factor)\n",
    "    ax.set_xlabel(\"x-coordinate\",fontsize=14)\n",
    "    ax.set_ylabel(\"y-coordinate\",fontsize=14)\n",
    "    ax.set_zlabel(\"z-coordinate\",fontsize=14)\n",
    "    ax.set_title(title,fontsize=20)\n",
    "    #ax.legend(loc=\"upper left\",fontsize=14)\n",
    "    #ax.xaxis.set_ticklabels([])\n",
    "    #ax.yaxis.set_ticklabels([])\n",
    "    #ax.zaxis.set_ticklabels([])\n",
    "    ax.set_xlim3d(edge[0].min(),edge[0].max())\n",
    "    ax.set_ylim3d(edge[1].min(),edge[1].max())\n",
    "    ax.set_zlim3d(edge[2].min(),edge[2].max())\n",
    "    ax.view_init(view1,view2)\n",
    "    plt.show\n",
    "    if save:\n",
    "        plt.savefig('Pictures_Final_Project/{}{}.png'.format(name,str(n).zfill(10)), dpi=100)\n",
    "    if show  == False:\n",
    "        plt.close(fig)"
   ]
  },
  {
   "cell_type": "code",
   "execution_count": 21,
   "metadata": {},
   "outputs": [],
   "source": [
    "# plot a quiver plot ()\n",
    "def quiver(rho,edge,phi,scale_factor=1):\n",
    "    nx,ny,nz,dx,dy,dz,minx,miny,minz = histo_imp_val(rho, edge)\n",
    "    X = np.linspace(-1+0.5*dx, 1-0.5*dx,nx)\n",
    "    Y = np.linspace(-1+0.5*dy, 1-0.5*dy,ny)\n",
    "    Fx = np.transpose(np.gradient(phi)[0])[int(size/2+1)]\n",
    "    Fy = np.transpose(np.gradient(phi)[1])[int(size/2+1)]\n",
    "    U, V = np.meshgrid(Y, X)\n",
    "    \n",
    "    fig, ax = plt.subplots(figsize=(10,10), dpi=100)\n",
    "    q = ax.quiver(U,V, Fx*scale_factor, Fy*scale_factor)\n",
    "    #ax.quiverkey(q, X=0.3, Y=1.1, U=10, labelpos='E')\n",
    "\n",
    "    plt.show()"
   ]
  },
  {
   "cell_type": "markdown",
   "metadata": {},
   "source": [
    "## Video function"
   ]
  },
  {
   "cell_type": "code",
   "execution_count": 14,
   "metadata": {},
   "outputs": [],
   "source": [
    "# Create a video from the picture in the output folder\n",
    "def movie_from_image(title = 'project.avi',fps = 15):\n",
    "    img_array = []\n",
    "    for filename in glob.glob('{}\\\\*.png'.format(os.path.join(os.getcwd(), 'Pictures_Final_Project'))):\n",
    "        img = cv2.imread(filename)\n",
    "        height, width, layers = img.shape\n",
    "        size = (width,height)\n",
    "        img_array.append(img)\n",
    " \n",
    "    out = cv2.VideoWriter(title,cv2.VideoWriter_fourcc(*'DIVX'), fps, size)\n",
    " \n",
    "    for i in range(len(img_array)):\n",
    "        out.write(img_array[i])\n",
    "    out.release()\n",
    "    \n",
    "    print('Video finish')\n",
    "    return 0"
   ]
  },
  {
   "cell_type": "markdown",
   "metadata": {},
   "source": [
    "## Function doing the simulation"
   ]
  },
  {
   "cell_type": "code",
   "execution_count": 15,
   "metadata": {},
   "outputs": [],
   "source": [
    "# Initialize the NxNxN matrix with the ptcl in it\n",
    "# Create the density Matrix\n",
    "# Order the ptcl such that they are in ascending order\n",
    "# Create the Green's Function\n",
    "# Compute Potential\n",
    "def Initialize(x, m, size, a = 0.005, plot_2D = True, plot_3D = False, sc_factor = 10000):\n",
    "    # Create density matrix rho\n",
    "    print(\"Density rho :\")\n",
    "    rho,edge = np.histogramdd(x,bins=size,range=((-1,1),(-1,1),(-1,1)), weights = m)\n",
    "    if plot_2D: plot_2D_collapse(rho,edge)\n",
    "    print(\" -- COMPLETE --\")\n",
    "\n",
    "    print(\"Order x :\")\n",
    "    # Order the x in order of ascending x, then y, then z\n",
    "    x = order_x(x,rho, edge)\n",
    "    print(\" -- COMPLETE --\")\n",
    "    \n",
    "    # Create softened potential matrix s_pot\n",
    "    print(\"Green's Func :\")\n",
    "    greens_f = soft_pot(rho,edge,a)\n",
    "    # Note : this plot goes from -2/2\n",
    "    if plot_2D: plot_2D_collapse(greens_f,edge)\n",
    "    print(\" -- COMPLETE --\")\n",
    "\n",
    "    # Compute total potential matrix by convolving the density matrix with the softened potential\n",
    "    # NOTE : the potential phi will be compute once again in Evolve(); this is only for visual check.\n",
    "    print(\"Potential :\")\n",
    "    phi = sig.fftconvolve(rho,greens_f,mode='same')\n",
    "    if plot_2D: plot_2D_collapse(phi,edge)\n",
    "    print(\" -- COMPLETE --\")\n",
    "    \n",
    "    plot_graph3D(x,edge,scale_factor = sc_factor,save=False,show=plot_3D)\n",
    "    \n",
    "    return x, rho, edge, greens_f, phi"
   ]
  },
  {
   "cell_type": "code",
   "execution_count": 16,
   "metadata": {},
   "outputs": [],
   "source": [
    "# evolve the system for nb_step time\n",
    "def Evolve(dt, size, nb_step, x_n, m, rho_n, phi_n, rho, edge, greens_f, v_n0, \n",
    "           show_freq=1,sc_factor=100,plot_3D = True, plot_E = True, save_3D=False, \n",
    "           quiver_plot =True, print_info = False, bound = \"periodic\",\n",
    "           name_file = \"fig\", view1=20,view2=60):\n",
    "    # check for inital velocity. if no inital velocity, set v_0 to 0 for all i,j,k,d\n",
    "    v_n = v_0*0\n",
    "    \n",
    "    [i,j,k],indices  = xn_to_ijk(x, rho, edge)\n",
    "    acc_1 = np.transpose(np.gradient(phi))[k,j,i]\n",
    "    m_matrix = m.reshape(len(x),1).repeat(3,1) # make a matrix out of m s.t. we can multiply it by acc\n",
    "    #v_n = v_n0 + 0.5*m_matrix*acc_1*dt\n",
    "    v_n = v_n0 + 0.5*acc_1*dt\n",
    "    \n",
    "    # create a array to store the energy values\n",
    "    E_values = np.zeros(shape=(nb_step+1,3))\n",
    "    \n",
    "    for nb in range(nb_step):\n",
    "        if print_info:print(\"Step :\",nb)#, end =\" \") # print actual step\n",
    "        \n",
    "        \n",
    "        # plot the ptcls in a 3D graph\n",
    "        if nb%show_freq==0:# make an image if the step is a multiple of show_freq.\n",
    "            plot_graph3D(x_n,edge,title = \"Step {}\".format(nb), \n",
    "                         scale_factor = sc_factor,save=save_3D, show = plot_3D, \n",
    "                         name = name_file,n = nb, view1=view1,view2=view2)\n",
    "            if quiver_plot : quiver(rho_n,edge,phi_n,scale_factor=1)\n",
    "            \n",
    "        # Compute total potential matrix by convolving the density matrix with the softened potential\n",
    "        phi_n = sig.fftconvolve(rho_n,greens_f,mode='same')\n",
    "            \n",
    "        # Compute acceleration\n",
    "        # NOTE : since I taking the transpose such that acc has dimension NxNxNx3, the indices are now (k,j,i,d).\n",
    "        acc_n = np.transpose(np.gradient(phi_n))\n",
    "        \n",
    "        # set an empty array for v_n1\n",
    "        v_n1 = v_n*0\n",
    "        # set an empty array for x_n1\n",
    "        x_n1 = x*0         \n",
    "        \n",
    "        \n",
    "        [i,j,k],indices = xn_to_ijk(x_n, rho, edge)# get the ptcl position in the matrix\n",
    "        x_n1 = x_n + v_n*dt #update that said ptcl position\n",
    "        #v_n1 = v_n + m_matrix*acc_n[k,j,i]*dt\n",
    "        v_n1 = v_n + acc_n[k,j,i]*dt\n",
    "        if bound == \"periodic\" : x_n1 = (x_n1-1)%2-1 #Assures that the ptcl is inside the boundaries of the box (-1,1)\n",
    "        if bound == \"n_periodic\" : x_n1,m,v_n1 = non_periodic(x_n1,m,v_n1)\n",
    "        E = Energy2(x_n,v_n,phi_n,rho_n,edge,m_matrix)\n",
    "        if print_info:\n",
    "            print(acc_n[k,j,i])\n",
    "            print(v_n, end =\" \")\n",
    "            print(v_n1, end =\" \")\n",
    "            print(\"E=\",E[0],\"  K=\",E[1],\"  P=\",E[2])\n",
    "\n",
    "        # Create density matrix rho for step n1\n",
    "        rho_n1,edge = np.histogramdd(x_n1,bins=size,range=((-1,1),(-1,1),(-1,1)), weights = m)\n",
    "    \n",
    "        # print the energy beside the the step number, and record its value in E_values\n",
    "        #print(\"E=\",E[0],\"  K=\",E[1],\"  P=\",E[2])\n",
    "        E_values[nb] = E\n",
    "    \n",
    "        # plot the next step ptcls in a 3D graph iff we are in the last step\n",
    "        if nb == nb_step-1:\n",
    "            phi_n1 = sig.fftconvolve(rho_n1,greens_f,mode='same')\n",
    "            print(\"Step :\",nb+1, end =\" \")\n",
    "            E = Energy2(x_n,v_n,phi_n,rho_n,edge,m_matrix)\n",
    "            #E = np.zeros(3)\n",
    "            #for ptcl in range(len(x_n)):\n",
    "            #    E = E + Energy(x_n[ptcl],v_n,phi_n,rho_n,edge)\n",
    "            #print(\"E=\",E[0],\"  K=\",E[1],\"  P=\",E[2])\n",
    "            E_values[nb+1] = E\n",
    "            plot_graph3D(x_n,edge,title = \"Step {}\".format(nb), \n",
    "                         scale_factor = sc_factor,save=save_3D, show = plot_3D, \n",
    "                         name = name_file,n = nb+1, view1=view1,view2=view2)\n",
    "    \n",
    "        # UPDATE THE VARIABLE FROM STEP n TO n+1 --------------------------------\n",
    "        x_n = x_n1\n",
    "        rho_n = rho_n1\n",
    "        v_n = v_n1\n",
    "    \n",
    "    # plot the energy\n",
    "    if plot_E:\n",
    "        fig, (ax1, ax2, ax3) = plt.subplots(3, 1)\n",
    "        ax1.plot(np.linspace(0,nb_step,nb_step+1),np.transpose(E_values)[0],\"bo-\", label=\"E\")\n",
    "        ax2.plot(np.linspace(0,nb_step,nb_step+1),np.transpose(E_values)[1],\"ro-\", label=\"K\")\n",
    "        ax3.plot(np.linspace(0,nb_step,nb_step+1),np.transpose(E_values)[2],\"go-\", label=\"P\")\n",
    "        fig.legend()\n",
    "        plt.show()"
   ]
  },
  {
   "cell_type": "markdown",
   "metadata": {},
   "source": [
    "# === === === CODE === === ==="
   ]
  },
  {
   "cell_type": "code",
   "execution_count": 24,
   "metadata": {},
   "outputs": [],
   "source": [
    "# set inital parameters\n",
    "N = 10000\n",
    "size = 51\n",
    "dt = 0.1\n",
    "nb_step = 100\n",
    "soft = 0.05\n",
    "sc_fact = 10000"
   ]
  },
  {
   "cell_type": "code",
   "execution_count": null,
   "metadata": {
    "scrolled": true
   },
   "outputs": [
    {
     "name": "stdout",
     "output_type": "stream",
     "text": [
      "Density rho :\n",
      " -- COMPLETE --\n",
      "Order x :\n",
      " -- COMPLETE --\n",
      "Green's Func :\n"
     ]
    }
   ],
   "source": [
    "# set the ptcls\n",
    "x_select = 2\n",
    "if x_select == 0:  #Random N ptcl\n",
    "    x=np.random.rand(N,3)*2-1\n",
    "    v_0=x*0\n",
    "    m = np.ones(len(x))/N\n",
    "if x_select == 1: # one Ptcl in the center\n",
    "    x=np.array([[0.0,0.0,0.0]]) \n",
    "    v_0=x*0\n",
    "    m = np.array([1.0])\n",
    "if x_select == 2: # pair of ptcl equal mas with speed oposed\n",
    "    speed = 0.1\n",
    "    mass = 0.5\n",
    "    x=np.array([[0.0,-0.1,0.0],[0.0,0.1,0.0]])\n",
    "    v_0=np.array([[-speed,0.0,0.0],[speed,0.0,0.0]])\n",
    "    m=np.array([mass,mass])\n",
    "if x_select == 3: # a particle orbiting another one, more massive\n",
    "    m_ratio = 10000\n",
    "    distance = 0.4\n",
    "    speed = 0.5\n",
    "    x=np.array([[0.0,0,0.0],[0.0,distance,0.0]]) \n",
    "    v_0=np.array([[0.0,0.0,0.0],[speed,0.0,0.0]])\n",
    "    m=np.array([m_ratio/(m_ratio+1),1/(m_ratio+1)])\n",
    "if x_select == 4: # a particle moving alone\n",
    "    speed = 1\n",
    "    x=np.array([[0.0,0,0.0]]) \n",
    "    v_0=np.array([[5.0,0.0,0.0]])\n",
    "    m=np.array([1])\n",
    "\n",
    "# Initilise the system\n",
    "x, rho, edge, greens_f, phi = Initialize(x, m, size,a=soft,plot_2D=True, plot_3D=True,sc_factor = sc_fact)"
   ]
  },
  {
   "cell_type": "code",
   "execution_count": null,
   "metadata": {
    "scrolled": true
   },
   "outputs": [],
   "source": [
    "Evolve(dt, size, nb_step, x, m, rho, phi, rho, edge, greens_f, v_0, \n",
    "       show_freq=1,sc_factor=sc_fact,plot_3D = True, save_3D=False, \n",
    "       print_info =False,quiver_plot = True,\n",
    "       name_file = \"fig\", view1=90, view2=90,bound = \"n_periodic\")  "
   ]
  },
  {
   "cell_type": "markdown",
   "metadata": {},
   "source": [
    "movie_from_image(title = 'project.avi',fps = 5)"
   ]
  },
  {
   "cell_type": "code",
   "execution_count": 352,
   "metadata": {},
   "outputs": [],
   "source": []
  },
  {
   "cell_type": "code",
   "execution_count": 206,
   "metadata": {},
   "outputs": [],
   "source": [
    "# Allow to transform the rho nxnxn matrix to a nx3 matrix of all the points position,\n",
    "# thus allowing us to plot it using plot_graph3D()\n",
    "def rho_to_x(rho):\n",
    "    x = np.array([[0,0,0]])\n",
    "    nx,ny,nz,dx,dy,dz,minx,miny,minz = histo_imp_val(rho, edge)\n",
    "    for i in range(nx):\n",
    "        #print(\"i=\",i) #Debugging\n",
    "        for j in range(ny):\n",
    "            for k in range(nz):\n",
    "                if rho[i,j,k] != 0.:\n",
    "                    for nb_ptcl in range(int(rho[i,j,k])):\n",
    "                        position = np.array([[(i+0.5)*dx+minx,(j+0.5)*dy+miny,(k+0.5)*dz+minz]])# obtain position\n",
    "                        x = np.concatenate((x,position),axis=0)# add it to the list of points x\n",
    "                    \n",
    "    return x[1:] #removes the first dummy point [0,0,0] and return x"
   ]
  },
  {
   "cell_type": "code",
   "execution_count": null,
   "metadata": {},
   "outputs": [],
   "source": []
  },
  {
   "cell_type": "markdown",
   "metadata": {},
   "source": [
    "# Problem 1:\n",
    "Using this code, show that a single particle starting at rest\n",
    "remains motionless."
   ]
  },
  {
   "cell_type": "code",
   "execution_count": null,
   "metadata": {},
   "outputs": [
    {
     "name": "stdout",
     "output_type": "stream",
     "text": [
      "Density rho :\n",
      " -- COMPLETE --\n",
      "Order x :\n",
      " -- COMPLETE --\n",
      "Green's Func :\n",
      " -- COMPLETE --\n",
      "Potential :\n",
      " -- COMPLETE --\n"
     ]
    }
   ],
   "source": [
    "# set inital parameters\n",
    "size = 101\n",
    "dt = 0.01\n",
    "nb_step = 100\n",
    "soft = 0.5\n",
    "sc_fact = 10000\n",
    "\n",
    "# one Ptcl in the center\n",
    "x=np.array([[0.0,0.0,0.0]]) \n",
    "v_0=x*0\n",
    "m = np.array([1.0])\n",
    "\n",
    "# Initilise the system\n",
    "x, rho, edge, greens_f, phi = Initialize(x, m, size,a=soft,plot_2D=True, plot_3D=True,sc_factor = sc_fact)\n",
    "# Evolve the ptcl in time\n",
    "Evolve(dt, size, nb_step, x, m, rho, phi, rho, edge, greens_f, v_0, \n",
    "       show_freq=nb_step,sc_factor=sc_fact,plot_3D = True, save_3D=False, \n",
    "       quiver_plot = False, name_file = \"fig\", view1=90, view2=90)  \n",
    "\n",
    "print (\"Time = \",dt*nb_step)"
   ]
  },
  {
   "cell_type": "markdown",
   "metadata": {},
   "source": [
    "One can see that the movement of the ptcl (kinetic energy) is the order of e-30. In other words, it is completly negligeable. The ptcl does stays motionless."
   ]
  },
  {
   "cell_type": "markdown",
   "metadata": {},
   "source": [
    "# Problem 2:\n",
    "Next, show that a pair of particles placed in a circular orbit\n",
    "continue to orbit each other, for at least some reasonable length of time."
   ]
  },
  {
   "cell_type": "code",
   "execution_count": null,
   "metadata": {},
   "outputs": [],
   "source": [
    "if x_select == 3: # a particle orbiting another one, more massive\n",
    "    m_ratio = 100\n",
    "    distance = 0.2\n",
    "    speed = np.sqrt(1/distance)*0.1\n",
    "    x=np.array([[0.0,0,0.0],[0.0,distance,0.0]]) \n",
    "    v_0=np.array([[0.0,0.0,0.0],[speed,0.0,0.0]])\n",
    "    m=np.array([m_ratio/(m_ratio+1),1/(m_ratio+1)])"
   ]
  },
  {
   "cell_type": "markdown",
   "metadata": {},
   "source": [
    "# Problem 3:\n",
    "Set up both periodic and non-periodic boundary conditions. Set\n",
    "up a problem where hundreds of thousands of particles are initially scattered\n",
    "randomly throughout the domain. Show the evolution with time for both\n",
    "periodic and non-periodic boundary conditions. Track the total energy -\n",
    "how well is it conserved?"
   ]
  }
 ],
 "metadata": {
  "kernelspec": {
   "display_name": "Python 3",
   "language": "python",
   "name": "python3"
  },
  "language_info": {
   "codemirror_mode": {
    "name": "ipython",
    "version": 3
   },
   "file_extension": ".py",
   "mimetype": "text/x-python",
   "name": "python",
   "nbconvert_exporter": "python",
   "pygments_lexer": "ipython3",
   "version": "3.7.3"
  }
 },
 "nbformat": 4,
 "nbformat_minor": 2
}
