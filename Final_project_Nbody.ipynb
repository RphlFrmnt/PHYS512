{
 "cells": [
  {
   "cell_type": "markdown",
   "metadata": {},
   "source": [
    "# Header"
   ]
  },
  {
   "cell_type": "code",
   "execution_count": 62,
   "metadata": {},
   "outputs": [],
   "source": [
    "import numpy as np\n",
    "import matplotlib.pyplot as plt\n",
    "import os\n",
    "from mpl_toolkits.mplot3d import Axes3D\n",
    "import scipy as s\n",
    "%matplotlib inline\n",
    "#%matplotlib notebook"
   ]
  },
  {
   "cell_type": "code",
   "execution_count": 26,
   "metadata": {},
   "outputs": [
    {
     "data": {
      "text/plain": [
       "'D:\\\\Raphael\\\\Dropbox\\\\Mcgill\\\\JupyterNotebook\\\\PHYS512'"
      ]
     },
     "execution_count": 26,
     "metadata": {},
     "output_type": "execute_result"
    }
   ],
   "source": [
    "# Check directory\n",
    "os.chdir(\"D:\\Raphael\\Dropbox\\Mcgill\\JupyterNotebook\\PHYS512\")\n",
    "os.getcwd()"
   ]
  },
  {
   "cell_type": "markdown",
   "metadata": {},
   "source": [
    "# Functions"
   ]
  },
  {
   "cell_type": "code",
   "execution_count": 189,
   "metadata": {},
   "outputs": [],
   "source": [
    "# Generate random inital condition\n",
    "def init_cond(n):\n",
    "    x=np.random.rand(n,3)\n",
    "    v=np.random.rand(n,3)*0\n",
    "    m=np.ones(n)/n\n",
    "    return x,v,m"
   ]
  },
  {
   "cell_type": "code",
   "execution_count": 195,
   "metadata": {},
   "outputs": [],
   "source": [
    "# Create density matrix\n",
    "def rho(x,bin):\n",
    "    rho = np.zeros(shape=(bin,bin,bin)) #Define the rho matrix\n",
    "    \n",
    "    # Now let's go inside each individual 3D bin\n",
    "    for i in range(bin):\n",
    "        for j in range(bin):\n",
    "            for k in range(bin): \n",
    "                #Now we check in x for any value which goes into that specific bin (either in x,y or z)\n",
    "                TF_x0_min = i/bin<=np.transpose(x)[0] \n",
    "                TF_x0_max = np.transpose(x)[0]<(i+1)/bin\n",
    "                TF_x1_min = j/bin<=np.transpose(x)[1] \n",
    "                TF_x1_max = np.transpose(x)[1]<(j+1)/bin\n",
    "                TF_x2_min = k/bin<=np.transpose(x)[2] \n",
    "                TF_x2_max = np.transpose(x)[2]<(k+1)/bin\n",
    "                #Now we can start counting to set the rho matrix\n",
    "                count = 0\n",
    "                for x_i in range(len(x)):\n",
    "                    #Check if this point is indeed in the bin we are looking for.\n",
    "                    if TF_x0_min[x_i] and TF_x0_max[x_i] and TF_x1_min[x_i] and TF_x1_max[x_i] and TF_x2_min[x_i] and TF_x2_max[x_i]: \n",
    "                        count = count+1\n",
    "                rho[i,j,k]=count\n",
    "    return rho"
   ]
  },
  {
   "cell_type": "code",
   "execution_count": 191,
   "metadata": {},
   "outputs": [],
   "source": [
    "#Return a 3D plot of the given x\n",
    "def plot_graph3D(x, title =\"\", scale_factor = 1,save=False, name = \"fig\",n = 0):\n",
    "    #Create figure\n",
    "    fig=plt.figure(figsize=(10,10))#Create 3D axes\n",
    "    ax=Axes3D(fig) \n",
    "    ax.scatter(x[0], x[1], x[2], color=\"royalblue\", marker=\".\",s=.02*scale_factor)\n",
    "    ax.set_xlabel(\"x-coordinate\",fontsize=14)\n",
    "    ax.set_ylabel(\"y-coordinate\",fontsize=14)\n",
    "    ax.set_label(\"z-coordinate\",fontsize=14)\n",
    "    ax.set_title(title,fontsize=20)\n",
    "    #ax.legend(loc=\"upper left\",fontsize=14)\n",
    "    ax.xaxis.set_ticklabels([])\n",
    "    ax.yaxis.set_ticklabels([])\n",
    "    ax.zaxis.set_ticklabels([])\n",
    "    if save:\n",
    "        plt.savefig('Pictures_Final_Project/{}{}.png'.format(name,n), dpi=100)\n",
    "    plt.close(fig)"
   ]
  },
  {
   "cell_type": "markdown",
   "metadata": {},
   "source": [
    "# Classes"
   ]
  },
  {
   "cell_type": "code",
   "execution_count": 141,
   "metadata": {},
   "outputs": [],
   "source": [
    "class Particles:\n",
    "    def __init__(self,x,v,m):\n",
    "        self.x=x.copy()\n",
    "        self.v=v.copy()\n",
    "        try:\n",
    "            self.m=m.copy()\n",
    "        except:\n",
    "            self.m=m\n",
    "        self.f=np.empty(x.shape)\n",
    "        self.n=self.x.shape[0]\n",
    "    def get_forces(self):\n",
    "        self.f[:]=0\n",
    "        for i in range(self.n):\n",
    "            for j in range(self.n):\n",
    "                if i!=j:\n",
    "                    dx=-self.x[i,:]+self.x[j,:]\n",
    "                    drsqr=np.sum(dx**2)\n",
    "                    r=np.sqrt(drsqr)\n",
    "                    self.f[i,:]=self.f[i,:]+dx*self.m[j]/(r*drsqr)\n",
    "    def update(self,dt):\n",
    "        self.get_forces()\n",
    "        self.x=self.x+dt*self.v\n",
    "        self.v=self.v+dt*self.f"
   ]
  },
  {
   "cell_type": "markdown",
   "metadata": {},
   "source": [
    "# Code"
   ]
  },
  {
   "cell_type": "code",
   "execution_count": 192,
   "metadata": {
    "scrolled": true
   },
   "outputs": [],
   "source": [
    "x,v,m = init_cond(2)\n",
    "rho_x = rho(x,100)"
   ]
  },
  {
   "cell_type": "code",
   "execution_count": null,
   "metadata": {},
   "outputs": [],
   "source": [
    "y,v1,m1 = init_cond(100)\n",
    "np.sum(rho(y,500))"
   ]
  },
  {
   "cell_type": "code",
   "execution_count": null,
   "metadata": {},
   "outputs": [],
   "source": []
  },
  {
   "cell_type": "code",
   "execution_count": null,
   "metadata": {},
   "outputs": [],
   "source": []
  },
  {
   "cell_type": "code",
   "execution_count": null,
   "metadata": {},
   "outputs": [],
   "source": [
    "n=2\n",
    "x=np.random.rand(n,3)\n",
    "v=np.random.rand(n,3)*0\n",
    "m=np.ones(n)\n",
    "parts=Particles(x,v,m)\n",
    "dt=0.1\n",
    "for i in range(50):\n",
    "    plot_graph3D(np.transpose(x),scale_factor=10000,save=True,n=i)\n",
    "    parts.update(dt)"
   ]
  },
  {
   "cell_type": "code",
   "execution_count": 136,
   "metadata": {},
   "outputs": [],
   "source": [
    "# define a cube to define the softened potential\n",
    "size = 101\n",
    "x = np.zeros(shape=(size**3,3))\n",
    "x_i = 0\n",
    "for i in range(size):\n",
    "    for j in range(size):\n",
    "        for k in range(size):\n",
    "            x[x_i] = np.array([i-(size-1)/2,j-(size-1)/2,k-(size-1)/2])\n",
    "            x_i = x_i + 1\n",
    "G_laplacian = soft_pot(x,1)"
   ]
  },
  {
   "cell_type": "code",
   "execution_count": 124,
   "metadata": {},
   "outputs": [
    {
     "ename": "ValueError",
     "evalue": "Invalid axis (-1) specified.",
     "output_type": "error",
     "traceback": [
      "\u001b[1;31m---------------------------------------------------------------------------\u001b[0m",
      "\u001b[1;31mValueError\u001b[0m                                Traceback (most recent call last)",
      "\u001b[1;32m<ipython-input-124-bc4ca1d594d6>\u001b[0m in \u001b[0;36m<module>\u001b[1;34m\u001b[0m\n\u001b[0;32m      1\u001b[0m \u001b[0mrho\u001b[0m \u001b[1;33m=\u001b[0m \u001b[0mx_i\u001b[0m\u001b[1;33m*\u001b[0m\u001b[1;36m0\u001b[0m\u001b[1;33m\u001b[0m\u001b[1;33m\u001b[0m\u001b[0m\n\u001b[0;32m      2\u001b[0m \u001b[1;33m\u001b[0m\u001b[0m\n\u001b[1;32m----> 3\u001b[1;33m \u001b[0mphi\u001b[0m \u001b[1;33m=\u001b[0m \u001b[0ms\u001b[0m\u001b[1;33m.\u001b[0m\u001b[0mifft\u001b[0m\u001b[1;33m(\u001b[0m\u001b[0ms\u001b[0m\u001b[1;33m.\u001b[0m\u001b[0mfft\u001b[0m\u001b[1;33m(\u001b[0m\u001b[0mG_laplacian\u001b[0m\u001b[1;33m)\u001b[0m \u001b[1;33m*\u001b[0m \u001b[0ms\u001b[0m\u001b[1;33m.\u001b[0m\u001b[0mfft\u001b[0m\u001b[1;33m(\u001b[0m\u001b[0mrho\u001b[0m\u001b[1;33m)\u001b[0m\u001b[1;33m)\u001b[0m\u001b[1;33m\u001b[0m\u001b[1;33m\u001b[0m\u001b[0m\n\u001b[0m",
      "\u001b[1;32m~\\Anaconda3\\lib\\site-packages\\mkl_fft\\_numpy_fft.py\u001b[0m in \u001b[0;36mfft\u001b[1;34m(a, n, axis, norm)\u001b[0m\n\u001b[0;32m    156\u001b[0m \u001b[1;33m\u001b[0m\u001b[0m\n\u001b[0;32m    157\u001b[0m     \"\"\"\n\u001b[1;32m--> 158\u001b[1;33m     \u001b[0moutput\u001b[0m \u001b[1;33m=\u001b[0m \u001b[0mmkl_fft\u001b[0m\u001b[1;33m.\u001b[0m\u001b[0mfft\u001b[0m\u001b[1;33m(\u001b[0m\u001b[0ma\u001b[0m\u001b[1;33m,\u001b[0m \u001b[0mn\u001b[0m\u001b[1;33m,\u001b[0m \u001b[0maxis\u001b[0m\u001b[1;33m)\u001b[0m\u001b[1;33m\u001b[0m\u001b[1;33m\u001b[0m\u001b[0m\n\u001b[0m\u001b[0;32m    159\u001b[0m     \u001b[1;32mif\u001b[0m \u001b[0m_unitary\u001b[0m\u001b[1;33m(\u001b[0m\u001b[0mnorm\u001b[0m\u001b[1;33m)\u001b[0m\u001b[1;33m:\u001b[0m\u001b[1;33m\u001b[0m\u001b[1;33m\u001b[0m\u001b[0m\n\u001b[0;32m    160\u001b[0m         \u001b[0moutput\u001b[0m \u001b[1;33m*=\u001b[0m \u001b[1;36m1\u001b[0m \u001b[1;33m/\u001b[0m \u001b[0msqrt\u001b[0m\u001b[1;33m(\u001b[0m\u001b[0moutput\u001b[0m\u001b[1;33m.\u001b[0m\u001b[0mshape\u001b[0m\u001b[1;33m[\u001b[0m\u001b[0maxis\u001b[0m\u001b[1;33m]\u001b[0m\u001b[1;33m)\u001b[0m\u001b[1;33m\u001b[0m\u001b[1;33m\u001b[0m\u001b[0m\n",
      "\u001b[1;32mmkl_fft\\_pydfti.pyx\u001b[0m in \u001b[0;36mmkl_fft._pydfti.fft\u001b[1;34m()\u001b[0m\n",
      "\u001b[1;32mmkl_fft\\_pydfti.pyx\u001b[0m in \u001b[0;36mmkl_fft._pydfti._fft1d_impl\u001b[1;34m()\u001b[0m\n",
      "\u001b[1;32mmkl_fft\\_pydfti.pyx\u001b[0m in \u001b[0;36mmkl_fft._pydfti.__process_arguments\u001b[1;34m()\u001b[0m\n",
      "\u001b[1;31mValueError\u001b[0m: Invalid axis (-1) specified."
     ]
    }
   ],
   "source": [
    "rho = x_i*0\n",
    "\n",
    "phi = s.ifft(s.fft(G_laplacian) * s.fft(rho))"
   ]
  },
  {
   "cell_type": "code",
   "execution_count": null,
   "metadata": {},
   "outputs": [],
   "source": [
    "# define softened potential\n",
    "def soft_pot(x,a):\n",
    "    x2 =x**2\n",
    "    r = np.zeros(len(x))\n",
    "    pot = r*0\n",
    "    for i in range(len(x)): \n",
    "        r[i] = np.sqrt(np.sum(x2[i]))\n",
    "        if r[i]**3<=a:\n",
    "            pot[i] = r[i]/a\n",
    "        else:\n",
    "            pot[i] = 1/r[i]**2\n",
    "    return pot"
   ]
  }
 ],
 "metadata": {
  "kernelspec": {
   "display_name": "Python 3",
   "language": "python",
   "name": "python3"
  },
  "language_info": {
   "codemirror_mode": {
    "name": "ipython",
    "version": 3
   },
   "file_extension": ".py",
   "mimetype": "text/x-python",
   "name": "python",
   "nbconvert_exporter": "python",
   "pygments_lexer": "ipython3",
   "version": "3.7.3"
  }
 },
 "nbformat": 4,
 "nbformat_minor": 2
}
