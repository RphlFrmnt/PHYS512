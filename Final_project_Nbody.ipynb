{
 "cells": [
  {
   "cell_type": "markdown",
   "metadata": {},
   "source": [
    "# Header"
   ]
  },
  {
   "cell_type": "code",
   "execution_count": 1,
   "metadata": {},
   "outputs": [],
   "source": [
    "import numpy as np\n",
    "import matplotlib.pyplot as plt\n",
    "import os\n",
    "from mpl_toolkits.mplot3d import Axes3D\n",
    "import scipy as s\n",
    "%matplotlib inline\n",
    "#%matplotlib notebook"
   ]
  },
  {
   "cell_type": "code",
   "execution_count": 2,
   "metadata": {},
   "outputs": [
    {
     "data": {
      "text/plain": [
       "'D:\\\\Raphael\\\\Dropbox\\\\Mcgill\\\\JupyterNotebook\\\\PHYS512'"
      ]
     },
     "execution_count": 2,
     "metadata": {},
     "output_type": "execute_result"
    }
   ],
   "source": [
    "# Check directory\n",
    "os.chdir(\"D:\\Raphael\\Dropbox\\Mcgill\\JupyterNotebook\\PHYS512\")\n",
    "os.getcwd()"
   ]
  },
  {
   "cell_type": "markdown",
   "metadata": {},
   "source": [
    "# Functions"
   ]
  },
  {
   "cell_type": "code",
   "execution_count": 3,
   "metadata": {},
   "outputs": [],
   "source": [
    "# Generate random inital condition\n",
    "def init_cond(n):\n",
    "    x=np.random.rand(n,3)\n",
    "    v=np.random.rand(n,3)*0\n",
    "    m=np.ones(n)/n\n",
    "    return x,v,m"
   ]
  },
  {
   "cell_type": "code",
   "execution_count": 52,
   "metadata": {},
   "outputs": [],
   "source": [
    "# Define softened potential, given a density matrix shape\n",
    "def soft_pot(rho,edge,a):\n",
    "    pot =rho*0 #initialise potential matrix\n",
    "    nx = len(rho[0]) # number of bins in x\n",
    "    ny = len(rho[1])\n",
    "    nz = len(rho[2])\n",
    "    dx = edge[0][1]-edge[0][0] # size of bin in x\n",
    "    dy = edge[1][1]-edge[1][0]\n",
    "    dz = edge[2][1]-edge[2][0]\n",
    "    for i in range(nx):\n",
    "        for j in range(ny):\n",
    "            for k in range(nz): # looking at some bin i,j,k\n",
    "                x = i+dx-0.5 # position of the center of the bin in x, given ptcl at x=0.5 (i.e at the center, since x=[0,1) )\n",
    "                y = j+dy-0.5\n",
    "                z = k+dz-0.5\n",
    "                r = np.sqrt(x**2+y**2+z**2) # distance btw center of bin and and particle\n",
    "                if r**3<=a:\n",
    "                    pot[i,j,k] = r/a # potential for bins close to ptcl\n",
    "                else:\n",
    "                    pot[i,j,k] = 1/r**2 # potential for bins far from ptcl\n",
    "    return pot"
   ]
  },
  {
   "cell_type": "code",
   "execution_count": 5,
   "metadata": {},
   "outputs": [],
   "source": [
    "#Return a 3D plot of the given x\n",
    "def plot_graph3D(x, title =\"\", scale_factor = 1,save=False, name = \"fig\",n = 0):\n",
    "    #Create figure\n",
    "    fig=plt.figure(figsize=(10,10))#Create 3D axes\n",
    "    ax=Axes3D(fig) \n",
    "    ax.scatter(x[0], x[1], x[2], color=\"royalblue\", marker=\".\",s=.02*scale_factor)\n",
    "    ax.set_xlabel(\"x-coordinate\",fontsize=14)\n",
    "    ax.set_ylabel(\"y-coordinate\",fontsize=14)\n",
    "    ax.set_label(\"z-coordinate\",fontsize=14)\n",
    "    ax.set_title(title,fontsize=20)\n",
    "    #ax.legend(loc=\"upper left\",fontsize=14)\n",
    "    ax.xaxis.set_ticklabels([])\n",
    "    ax.yaxis.set_ticklabels([])\n",
    "    ax.zaxis.set_ticklabels([])\n",
    "    if save:\n",
    "        plt.savefig('Pictures_Final_Project/{}{}.png'.format(name,n), dpi=100)\n",
    "    plt.close(fig)"
   ]
  },
  {
   "cell_type": "markdown",
   "metadata": {},
   "source": [
    "# Classes"
   ]
  },
  {
   "cell_type": "code",
   "execution_count": 6,
   "metadata": {},
   "outputs": [],
   "source": [
    "class Particles:\n",
    "    def __init__(self,x,v,m):\n",
    "        self.x=x.copy()\n",
    "        self.v=v.copy()\n",
    "        try:\n",
    "            self.m=m.copy()\n",
    "        except:\n",
    "            self.m=m\n",
    "        self.f=np.empty(x.shape)\n",
    "        self.n=self.x.shape[0]\n",
    "    def get_forces(self):\n",
    "        self.f[:]=0\n",
    "        for i in range(self.n):\n",
    "            for j in range(self.n):\n",
    "                if i!=j:\n",
    "                    dx=-self.x[i,:]+self.x[j,:]\n",
    "                    drsqr=np.sum(dx**2)\n",
    "                    r=np.sqrt(drsqr)\n",
    "                    self.f[i,:]=self.f[i,:]+dx*self.m[j]/(r*drsqr)\n",
    "    def update(self,dt):\n",
    "        self.get_forces()\n",
    "        self.x=self.x+dt*self.v\n",
    "        self.v=self.v+dt*self.f"
   ]
  },
  {
   "cell_type": "markdown",
   "metadata": {},
   "source": [
    "# Code"
   ]
  },
  {
   "cell_type": "code",
   "execution_count": 56,
   "metadata": {
    "scrolled": true
   },
   "outputs": [],
   "source": [
    "# initialise randomly for some n ptcls in a box size^3\n",
    "n = 100\n",
    "size = 100\n",
    "x,v,m = init_cond(n)\n",
    "\n",
    "# Create density matrix rho\n",
    "rho,edge = np.histogramdd(x,bins=size)\n",
    "\n",
    "# Create softened potential matrix s_pot\n",
    "s_pot = soft_pot(rho,edge,0.01)\n",
    "\n",
    "# Create total potential matrix by convolving the density matrix with the softened potential\n",
    "phi = s.ifft(s.fft(s_pot) * s.fft(rho))"
   ]
  },
  {
   "cell_type": "code",
   "execution_count": 55,
   "metadata": {},
   "outputs": [],
   "source": []
  },
  {
   "cell_type": "code",
   "execution_count": null,
   "metadata": {},
   "outputs": [],
   "source": []
  },
  {
   "cell_type": "code",
   "execution_count": null,
   "metadata": {},
   "outputs": [],
   "source": []
  },
  {
   "cell_type": "code",
   "execution_count": 30,
   "metadata": {},
   "outputs": [],
   "source": [
    "#x[ptcl,xyz]\n",
    "#x_t[xyz,ptcl]"
   ]
  },
  {
   "cell_type": "code",
   "execution_count": 50,
   "metadata": {},
   "outputs": [],
   "source": []
  },
  {
   "cell_type": "code",
   "execution_count": 51,
   "metadata": {},
   "outputs": [],
   "source": []
  },
  {
   "cell_type": "code",
   "execution_count": null,
   "metadata": {},
   "outputs": [],
   "source": []
  },
  {
   "cell_type": "code",
   "execution_count": null,
   "metadata": {},
   "outputs": [],
   "source": []
  },
  {
   "cell_type": "code",
   "execution_count": null,
   "metadata": {},
   "outputs": [],
   "source": []
  },
  {
   "cell_type": "code",
   "execution_count": null,
   "metadata": {},
   "outputs": [],
   "source": []
  },
  {
   "cell_type": "code",
   "execution_count": null,
   "metadata": {},
   "outputs": [],
   "source": []
  },
  {
   "cell_type": "code",
   "execution_count": null,
   "metadata": {},
   "outputs": [],
   "source": []
  },
  {
   "cell_type": "code",
   "execution_count": null,
   "metadata": {},
   "outputs": [],
   "source": []
  },
  {
   "cell_type": "code",
   "execution_count": null,
   "metadata": {},
   "outputs": [],
   "source": []
  },
  {
   "cell_type": "code",
   "execution_count": null,
   "metadata": {},
   "outputs": [],
   "source": []
  },
  {
   "cell_type": "code",
   "execution_count": null,
   "metadata": {},
   "outputs": [],
   "source": []
  },
  {
   "cell_type": "code",
   "execution_count": null,
   "metadata": {},
   "outputs": [],
   "source": [
    "n=2\n",
    "x=np.random.rand(n,3)\n",
    "v=np.random.rand(n,3)*0\n",
    "m=np.ones(n)\n",
    "parts=Particles(x,v,m)\n",
    "dt=0.1\n",
    "for i in range(50):\n",
    "    plot_graph3D(np.transpose(x),scale_factor=10000,save=True,n=i)\n",
    "    parts.update(dt)"
   ]
  },
  {
   "cell_type": "code",
   "execution_count": 136,
   "metadata": {},
   "outputs": [],
   "source": [
    "# define a cube to define the softened potential\n",
    "size = 101\n",
    "x = np.zeros(shape=(size**3,3))\n",
    "x_i = 0\n",
    "for i in range(size):\n",
    "    for j in range(size):\n",
    "        for k in range(size):\n",
    "            x[x_i] = np.array([i-(size-1)/2,j-(size-1)/2,k-(size-1)/2])\n",
    "            x_i = x_i + 1\n",
    "G_laplacian = soft_pot(x,1)"
   ]
  },
  {
   "cell_type": "code",
   "execution_count": 124,
   "metadata": {},
   "outputs": [
    {
     "ename": "ValueError",
     "evalue": "Invalid axis (-1) specified.",
     "output_type": "error",
     "traceback": [
      "\u001b[1;31m---------------------------------------------------------------------------\u001b[0m",
      "\u001b[1;31mValueError\u001b[0m                                Traceback (most recent call last)",
      "\u001b[1;32m<ipython-input-124-bc4ca1d594d6>\u001b[0m in \u001b[0;36m<module>\u001b[1;34m\u001b[0m\n\u001b[0;32m      1\u001b[0m \u001b[0mrho\u001b[0m \u001b[1;33m=\u001b[0m \u001b[0mx_i\u001b[0m\u001b[1;33m*\u001b[0m\u001b[1;36m0\u001b[0m\u001b[1;33m\u001b[0m\u001b[1;33m\u001b[0m\u001b[0m\n\u001b[0;32m      2\u001b[0m \u001b[1;33m\u001b[0m\u001b[0m\n\u001b[1;32m----> 3\u001b[1;33m \u001b[0mphi\u001b[0m \u001b[1;33m=\u001b[0m \u001b[0ms\u001b[0m\u001b[1;33m.\u001b[0m\u001b[0mifft\u001b[0m\u001b[1;33m(\u001b[0m\u001b[0ms\u001b[0m\u001b[1;33m.\u001b[0m\u001b[0mfft\u001b[0m\u001b[1;33m(\u001b[0m\u001b[0mG_laplacian\u001b[0m\u001b[1;33m)\u001b[0m \u001b[1;33m*\u001b[0m \u001b[0ms\u001b[0m\u001b[1;33m.\u001b[0m\u001b[0mfft\u001b[0m\u001b[1;33m(\u001b[0m\u001b[0mrho\u001b[0m\u001b[1;33m)\u001b[0m\u001b[1;33m)\u001b[0m\u001b[1;33m\u001b[0m\u001b[1;33m\u001b[0m\u001b[0m\n\u001b[0m",
      "\u001b[1;32m~\\Anaconda3\\lib\\site-packages\\mkl_fft\\_numpy_fft.py\u001b[0m in \u001b[0;36mfft\u001b[1;34m(a, n, axis, norm)\u001b[0m\n\u001b[0;32m    156\u001b[0m \u001b[1;33m\u001b[0m\u001b[0m\n\u001b[0;32m    157\u001b[0m     \"\"\"\n\u001b[1;32m--> 158\u001b[1;33m     \u001b[0moutput\u001b[0m \u001b[1;33m=\u001b[0m \u001b[0mmkl_fft\u001b[0m\u001b[1;33m.\u001b[0m\u001b[0mfft\u001b[0m\u001b[1;33m(\u001b[0m\u001b[0ma\u001b[0m\u001b[1;33m,\u001b[0m \u001b[0mn\u001b[0m\u001b[1;33m,\u001b[0m \u001b[0maxis\u001b[0m\u001b[1;33m)\u001b[0m\u001b[1;33m\u001b[0m\u001b[1;33m\u001b[0m\u001b[0m\n\u001b[0m\u001b[0;32m    159\u001b[0m     \u001b[1;32mif\u001b[0m \u001b[0m_unitary\u001b[0m\u001b[1;33m(\u001b[0m\u001b[0mnorm\u001b[0m\u001b[1;33m)\u001b[0m\u001b[1;33m:\u001b[0m\u001b[1;33m\u001b[0m\u001b[1;33m\u001b[0m\u001b[0m\n\u001b[0;32m    160\u001b[0m         \u001b[0moutput\u001b[0m \u001b[1;33m*=\u001b[0m \u001b[1;36m1\u001b[0m \u001b[1;33m/\u001b[0m \u001b[0msqrt\u001b[0m\u001b[1;33m(\u001b[0m\u001b[0moutput\u001b[0m\u001b[1;33m.\u001b[0m\u001b[0mshape\u001b[0m\u001b[1;33m[\u001b[0m\u001b[0maxis\u001b[0m\u001b[1;33m]\u001b[0m\u001b[1;33m)\u001b[0m\u001b[1;33m\u001b[0m\u001b[1;33m\u001b[0m\u001b[0m\n",
      "\u001b[1;32mmkl_fft\\_pydfti.pyx\u001b[0m in \u001b[0;36mmkl_fft._pydfti.fft\u001b[1;34m()\u001b[0m\n",
      "\u001b[1;32mmkl_fft\\_pydfti.pyx\u001b[0m in \u001b[0;36mmkl_fft._pydfti._fft1d_impl\u001b[1;34m()\u001b[0m\n",
      "\u001b[1;32mmkl_fft\\_pydfti.pyx\u001b[0m in \u001b[0;36mmkl_fft._pydfti.__process_arguments\u001b[1;34m()\u001b[0m\n",
      "\u001b[1;31mValueError\u001b[0m: Invalid axis (-1) specified."
     ]
    }
   ],
   "source": [
    "rho = x_i*0\n",
    "\n",
    "phi = s.ifft(s.fft(G_laplacian) * s.fft(rho))"
   ]
  }
 ],
 "metadata": {
  "kernelspec": {
   "display_name": "Python 3",
   "language": "python",
   "name": "python3"
  },
  "language_info": {
   "codemirror_mode": {
    "name": "ipython",
    "version": 3
   },
   "file_extension": ".py",
   "mimetype": "text/x-python",
   "name": "python",
   "nbconvert_exporter": "python",
   "pygments_lexer": "ipython3",
   "version": "3.7.3"
  }
 },
 "nbformat": 4,
 "nbformat_minor": 2
}
