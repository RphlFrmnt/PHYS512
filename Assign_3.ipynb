{
 "cells": [
  {
   "cell_type": "markdown",
   "metadata": {},
   "source": [
    "# Header"
   ]
  },
  {
   "cell_type": "code",
   "execution_count": 1,
   "metadata": {},
   "outputs": [],
   "source": [
    "import numpy as np\n",
    "import matplotlib.pyplot as plt\n",
    "import spinmob as s\n",
    "from scipy import interpolate as interpolate\n",
    "from scipy import integrate as integrate\n",
    "import os"
   ]
  },
  {
   "cell_type": "code",
   "execution_count": 2,
   "metadata": {},
   "outputs": [
    {
     "data": {
      "text/plain": [
       "'D:\\\\Raphael\\\\Dropbox\\\\Mcgill\\\\JupyterNotebook\\\\PHYS512'"
      ]
     },
     "execution_count": 2,
     "metadata": {},
     "output_type": "execute_result"
    }
   ],
   "source": [
    "# check directory\n",
    "os.chdir(\"D:\\Raphael\\Dropbox\\Mcgill\\JupyterNotebook\\PHYS512\")\n",
    "os.getcwd()"
   ]
  },
  {
   "cell_type": "markdown",
   "metadata": {},
   "source": [
    "## Fonctions"
   ]
  },
  {
   "cell_type": "code",
   "execution_count": 3,
   "metadata": {},
   "outputs": [],
   "source": [
    "def para(x,a,b,c):\n",
    "    return a*x**2 + b*x + c"
   ]
  },
  {
   "cell_type": "markdown",
   "metadata": {},
   "source": [
    "# Problem 1\n",
    "Before we start the main part of this problem set, let’s warm up with  linear least-squares problem. Look at the file dish zenith.txt. This contains photogrammetry data for a prototype telescope dish. Photogrammetry attempts to reconstruct surfaces by working out the 3-dimensional positions of targets from many pictures (as an aside, the algorithms behind photogrammetry are\n",
    "another fun least-squares-type problem, but beyond the scope of this class). The end result is that dish zenith.txt contains the (x,y,z) positions in mm of a few hundred targets placed on the dish. The ideal telescope dish should be a rotationally symmetric paraboloid. We will try to measure the shape of that paraboloid, and see how well we did."
   ]
  },
  {
   "cell_type": "code",
   "execution_count": 4,
   "metadata": {},
   "outputs": [
    {
     "name": "stdout",
     "output_type": "stream",
     "text": [
      "=> X Y Z loaded\n"
     ]
    }
   ],
   "source": [
    "# Importing and storing the data by X,Y,Z\n",
    "dish_zenith = s.data.load('dish_zenith.txt')\n",
    "X = dish_zenith[0]\n",
    "Y = dish_zenith[1]\n",
    "Z = dish_zenith[2]\n",
    "print(\"=> X Y Z loaded\")"
   ]
  },
  {
   "cell_type": "markdown",
   "metadata": {},
   "source": [
    "## a)\n",
    "Helpfully, I have oriented the points in the file so that the dish is pointing in the +z direction (in the general problem, you would have to fit for direction the dish is pointing in as well, but we will skip that here). For a rotationally\n",
    "symmetric paraboloid, we know that\n",
    "\n",
    "$$z − z_0 = a\\big((x − x_0)^2 + (y − y_0)^2\\big)$$\n",
    "\n",
    "and we need to solve for x0, y0, z0, and a. While at first glance this problem may appear non-linear, show that we can pick a new set of parameters that make\n",
    "the problem linear. What are these new parameters, and how do they relate to the old ones?"
   ]
  },
  {
   "cell_type": "code",
   "execution_count": 5,
   "metadata": {},
   "outputs": [],
   "source": [
    "# First we define R^2 = X^2 + Y^2\n",
    "R = np.sqrt(X**2 + Y**2)\n",
    "# We thus obtain Z = a(R-R_0)^2 + Z_0\n",
    "# we define:\n",
    "#   b = -2aR_0\n",
    "#   c = aR_0^2 + Z_0\n",
    "# such that Z = aR^2 + bR + c"
   ]
  },
  {
   "cell_type": "markdown",
   "metadata": {},
   "source": [
    "## b)\n",
    "Carry out the fit. What are your best-fit parameters?"
   ]
  },
  {
   "cell_type": "code",
   "execution_count": 6,
   "metadata": {
    "scrolled": true
   },
   "outputs": [
    {
     "name": "stdout",
     "output_type": "stream",
     "text": [
      "a = 0.00016362088680435451 / b =  0.009977088801090161 / c = -1517.8966605425558\n"
     ]
    }
   ],
   "source": [
    "# Using the least sqaure fit on a,b and c, lets define our matrices:\n",
    "A = np.array([[np.sum(R**4),np.sum(R**3),np.sum(R**2)],\n",
    "             [np.sum(R**3),np.sum(R**2),np.sum(R**1)],\n",
    "             [np.sum(R**2),np.sum(R**1),np.sum(R**0)]])\n",
    "A_inv = np.linalg.inv(A)\n",
    "B = np.array([[np.sum(Z*R**2)],[np.sum(Z*R)],[np.sum(Z)]])\n",
    "P = np.matmul(A_inv,B)\n",
    "[a,b,c] = np.transpose(P)[0]\n",
    "print(\"a =\",a,\"/ b = \",b,\"/ c =\",c)"
   ]
  },
  {
   "cell_type": "code",
   "execution_count": 7,
   "metadata": {},
   "outputs": [
    {
     "data": {
      "text/plain": [
       "[<matplotlib.lines.Line2D at 0x26f802f1fd0>]"
      ]
     },
     "execution_count": 7,
     "metadata": {},
     "output_type": "execute_result"
    },
    {
     "data": {
      "image/png": "[encoded data removed]",
      "text/plain": [
       "<Figure size 432x288 with 1 Axes>"
      ]
     },
     "metadata": {
      "needs_background": "light"
     },
     "output_type": "display_data"
    }
   ],
   "source": [
    "# Plot to see if the paramaters fit the data\n",
    "plt.plot(R,Z,\"r.\")\n",
    "r = np.linspace(0,3000,3001)\n",
    "z = para(r,a,b,c)\n",
    "plt.plot(r,z,\"b-\")"
   ]
  },
  {
   "cell_type": "markdown",
   "metadata": {},
   "source": [
    "## c)\n",
    "Estimate the noise in the data, and from that, estimate the uncertainty in a. Our target focal length was 1.5 metres. What did we actually get, and what is the error bar? In case all facets of conic sections are not at your immediate recall, a parabola that goes through (0, 0) can be written as $y = x^2/(4f)$ where f is the focal length. When calculating the error bar for the focal length, feel free to approximate using a first-order Taylor expansion."
   ]
  },
  {
   "cell_type": "code",
   "execution_count": 8,
   "metadata": {},
   "outputs": [
    {
     "name": "stdout",
     "output_type": "stream",
     "text": [
      "Error estimate: 383017.7577258731\n"
     ]
    }
   ],
   "source": [
    "# Estimate the error\n",
    "error = 0\n",
    "for i in range(len(R)):\n",
    "    error = error + (Z[i] - para(R[i],a,b,c))**2\n",
    "print(\"Error estimate:\",error)"
   ]
  },
  {
   "cell_type": "code",
   "execution_count": null,
   "metadata": {},
   "outputs": [],
   "source": []
  },
  {
   "cell_type": "code",
   "execution_count": null,
   "metadata": {},
   "outputs": [],
   "source": []
  },
  {
   "cell_type": "code",
   "execution_count": null,
   "metadata": {},
   "outputs": [],
   "source": []
  },
  {
   "cell_type": "markdown",
   "metadata": {},
   "source": [
    "# Problem 2\n",
    "Using Gaussian, uncorrelated errors, what do you get for $χ^2$ for the model in my example script, where the Hubble constant $H_0 = 65$ km/s, the physical baryon density $ω_bh^2=0.02$, the cold dark matter density $ω_ch^2 = 0.1$ the optical depth $τ = 0.05$, the primordial amplitude of fluctuations is $A_s = 2 × 10−9$ , and the slope of the primordial power law is $0.96$ (where 1 would be scale-invariant). The baryon/dark matter densities are defined relative to the critical density required to close the universe, scaled by $h^2$ where $h ≡ H_0/100 ∼ 0.7$. Note that the universe is assumed to be spatially flat (for reasons too long to justify here), so the dark matter density relative to critical for these parameters would be $1 − (ω_bh^2 + ω_ch^2 )/h^2 =71.6%$ for the model assumed here. (You may want to play around plotting different models as you change parameters to get a sense for how the CMB depends on them.) If everything has gone well, you should get something around 1588 (please give a few extra digits) for $χ^2$ for this model."
   ]
  },
  {
   "cell_type": "markdown",
   "metadata": {},
   "source": [
    "# Problem 3\n",
    "Keeping the optical depth fixed at 0.05, write a Newton’s method/LevenbergMarquardt minimizer and use it to find the best-fit values for the other parameters, and their errors. What are they? If you were to keep the same set of parameter but now float $τ$ , what would you expect the new errors to be? Note that CAMB does not provide derivatives with respect to parameters, so you’ll\n",
    "have to come up with something for that. Pleae also provide a plot showing why we should believe your derivative estimates."
   ]
  },
  {
   "cell_type": "markdown",
   "metadata": {},
   "source": [
    "# Problem 4\n",
    "Now write a Markov-chain Monte Carlo where you fit the basic 6 parameters, including $τ$ . However, note that we know the optical depth can’t be negative, so you should reject any steps that try to sample a negative $τ$ . What are your parameter limits now? Please also present an argument as to why you think your chains are converged. As a reminder, you can draw samples of correlated data from a covariance matrix with r = np.linalg.cholesky(mat); d = np.dot(r, np.random.randn(r.shape[0])). You will want to use the covariance matrix from part 2) when drawing samples for the MCMC."
   ]
  },
  {
   "cell_type": "markdown",
   "metadata": {},
   "source": [
    "# Problem 5\n",
    "The Planck satellite has independently measured the CMB sky, and finds that the optical depth is 0.0544 ± 0.0073. Run a chain where you add this in as a prior on the value of τ . What are your new parameter values/constraints? You can also take your chain from part 4) and importance sample it (weighting by the prior) with the Planck τ prior. How to those results compare to the full chain results?"
   ]
  },
  {
   "cell_type": "code",
   "execution_count": null,
   "metadata": {},
   "outputs": [],
   "source": []
  }
 ],
 "metadata": {
  "kernelspec": {
   "display_name": "Python 3",
   "language": "python",
   "name": "python3"
  },
  "language_info": {
   "codemirror_mode": {
    "name": "ipython",
    "version": 3
   },
   "file_extension": ".py",
   "mimetype": "text/x-python",
   "name": "python",
   "nbconvert_exporter": "python",
   "pygments_lexer": "ipython3",
   "version": "3.7.3"
  }
 },
 "nbformat": 4,
 "nbformat_minor": 2
}
