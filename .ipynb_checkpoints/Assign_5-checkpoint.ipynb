{
 "cells": [
  {
   "cell_type": "markdown",
   "metadata": {},
   "source": [
    "# Header"
   ]
  },
  {
   "cell_type": "code",
   "execution_count": 2,
   "metadata": {},
   "outputs": [],
   "source": [
    "import numpy as np\n",
    "import matplotlib.pyplot as plt\n",
    "import os\n",
    "from scipy import signal\n",
    "from scipy.interpolate import interp1d\n",
    "from scipy.signal import butter, filtfilt, iirdesign, zpk2tf, freqz\n",
    "import h5py\n",
    "import json\n",
    "#import spinmob as s\n",
    "#import camb\n",
    "#import time\n",
    "#%matplotlib notebook\n",
    "\n",
    "# Import LIGO stuff\n",
    "import sys  \n",
    "sys.path.insert(0, 'D:\\Raphael\\Dropbox\\Mcgill\\JupyterNotebook\\PHYS512\\LIGO')\n",
    "# LIGO-specific readligo.py \n",
    "import readligo as rl"
   ]
  },
  {
   "cell_type": "code",
   "execution_count": 3,
   "metadata": {},
   "outputs": [
    {
     "data": {
      "text/plain": [
       "'D:\\\\Raphael\\\\Dropbox\\\\Mcgill\\\\JupyterNotebook\\\\PHYS512'"
      ]
     },
     "execution_count": 3,
     "metadata": {},
     "output_type": "execute_result"
    }
   ],
   "source": [
    "# check directory\n",
    "os.chdir(\"D:\\Raphael\\Dropbox\\Mcgill\\JupyterNotebook\\PHYS512\")\n",
    "os.getcwd()"
   ]
  },
  {
   "cell_type": "markdown",
   "metadata": {},
   "source": [
    "# Functions"
   ]
  },
  {
   "cell_type": "code",
   "execution_count": 4,
   "metadata": {},
   "outputs": [],
   "source": [
    "# Gaussian fonction\n",
    "def Gaus(x,a,b,c):\n",
    "    return a*np.exp(-(x-b)**2/(2*c**2))"
   ]
  },
  {
   "cell_type": "markdown",
   "metadata": {},
   "source": [
    "Key will be getting LIGO data from:\n",
    "\n",
    "https://www.gw-openscience.org/static/events/LOSC_Event_tutorial.zip\n",
    "\n",
    "While they include code to do much of this, please don’t use it (although\n",
    "you may look at it for inspiration) and instead write your own. You can\n",
    "look at/use simple read ligo.py that I have posted for concise code to read\n",
    "the hdf5 files. Feel free to have your code loop over the events and print the\n",
    "answer to each part for that event. In order to make our life easy, in case\n",
    "we have to re-run your code (which we should not have to do), please also\n",
    "have a variable at the top of your code that sets the directory where you\n",
    "have unzipped the data.\n",
    "# Question 1\n",
    "Find gravitational waves! Parts should include\n",
    "## a)\n",
    "Come up with a noise model for Livingston and Hanford separately.\n",
    "Describe in comments how you go about doing this. Please mention something about how you smooth the power spectrum and how you deal with\n",
    "lines (if at all). Please also explain how you window the data (you may want\n",
    "to use a window that has an extended flat period near the center to avoid\n",
    "tapering the data/template where the signal is not small)."
   ]
  },
  {
   "cell_type": "code",
   "execution_count": 5,
   "metadata": {},
   "outputs": [
    {
     "name": "stdout",
     "output_type": "stream",
     "text": [
      "Cannot find resource file BBH_events_v3.json\n",
      "You can download it from https://losc.ligo.org/s/events/BBH_events_v3.json\n"
     ]
    }
   ],
   "source": [
    "# First let's load the an even:\n",
    "eventname = 'GW150914'\n",
    "#eventname = 'GW151226' \n",
    "#eventname = 'LVT151012'\n",
    "#eventname = 'GW170104'\n",
    "\n",
    "json_name = \"BBH_events_v3.json\"\n",
    "try:\n",
    "    events = json.load(open(json_name,\"r\"))\n",
    "except IOError:\n",
    "    print(\"Cannot find resource file \"+json_name)"
   ]
  },
  {
   "cell_type": "code",
   "execution_count": null,
   "metadata": {},
   "outputs": [],
   "source": []
  },
  {
   "cell_type": "code",
   "execution_count": null,
   "metadata": {},
   "outputs": [],
   "source": []
  },
  {
   "cell_type": "code",
   "execution_count": null,
   "metadata": {},
   "outputs": [],
   "source": []
  },
  {
   "cell_type": "code",
   "execution_count": null,
   "metadata": {},
   "outputs": [],
   "source": []
  },
  {
   "cell_type": "code",
   "execution_count": null,
   "metadata": {},
   "outputs": [],
   "source": []
  },
  {
   "cell_type": "markdown",
   "metadata": {},
   "source": [
    "\n"
   ]
  }
 ],
 "metadata": {
  "kernelspec": {
   "display_name": "Python 3",
   "language": "python",
   "name": "python3"
  },
  "language_info": {
   "codemirror_mode": {
    "name": "ipython",
    "version": 3
   },
   "file_extension": ".py",
   "mimetype": "text/x-python",
   "name": "python",
   "nbconvert_exporter": "python",
   "pygments_lexer": "ipython3",
   "version": "3.7.3"
  }
 },
 "nbformat": 4,
 "nbformat_minor": 2
}
