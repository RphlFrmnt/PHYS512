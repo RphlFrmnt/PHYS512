{
 "cells": [
  {
   "cell_type": "markdown",
   "metadata": {},
   "source": [
    "# Header"
   ]
  },
  {
   "cell_type": "code",
   "execution_count": 1,
   "metadata": {},
   "outputs": [],
   "source": [
    "import numpy as np\n",
    "import matplotlib.pyplot as plt\n",
    "import spinmob as s\n",
    "from scipy import interpolate as interpolate\n",
    "from scipy import integrate as integrate\n",
    "import os"
   ]
  },
  {
   "cell_type": "code",
   "execution_count": 3,
   "metadata": {},
   "outputs": [
    {
     "data": {
      "text/plain": [
       "'D:\\\\Raphael\\\\Dropbox\\\\Mcgill\\\\PHYS512_CompPhys\\\\Assignement2'"
      ]
     },
     "execution_count": 3,
     "metadata": {},
     "output_type": "execute_result"
    }
   ],
   "source": [
    "# check directory\n",
    "os.chdir(\"D:\\Raphael\\Dropbox\\Mcgill\\PHYS512_CompPhys\\Assignement2\")\n",
    "os.getcwd()"
   ]
  },
  {
   "cell_type": "markdown",
   "metadata": {},
   "source": [
    "# Problem 1\n",
    "\n",
    "Write a recursive variable step size integrator like the one we wrote in class that does NOT call f(x) multiple times for the same x. For a few typical examples, how many function calls do you save vs. the lazy way we wrote it in class?"
   ]
  },
  {
   "cell_type": "code",
   "execution_count": 4,
   "metadata": {},
   "outputs": [],
   "source": [
    "def integrate_step(fun,x1,x2,tol):\n",
    "    print('integrating from ',x1,' to ',x2)\n",
    "    x=np.linspace(x1,x2,5)\n",
    "    y=fun(x)\n",
    "    area1=(x2-x1)*(y[0]+4*y[2]+y[4])/6\n",
    "    area2=(x2-x1)*( y[0]+4*y[1]+2*y[2]+4*y[3]+y[4])/12\n",
    "    myerr=np.abs(area1-area2)\n",
    "    if myerr<tol:\n",
    "        return area2\n",
    "    else:\n",
    "        xm=0.5*(x1+x2)\n",
    "        a1=integrate_step(fun,x1,xm,tol/2)\n",
    "        a2=integrate_step(fun,xm,x2,tol/2)\n",
    "        return a1+a2"
   ]
  },
  {
   "cell_type": "code",
   "execution_count": 14,
   "metadata": {},
   "outputs": [],
   "source": [
    "def simple_integrate(fun,a,b,tol):\n",
    "    x=np.linspace(a,b,5)\n",
    "    dx=(b-a)/4.0\n",
    "    #np.median(np.diff(x))\n",
    "    y=fun(x)\n",
    "    neval=len(x) #let's keep track of function evaluations\n",
    "    f1=(y[0]+4*y[2]+y[4])/6.0*(b-a)\n",
    "    f2=(y[0]+4*y[1]+2*y[2]+4*y[3]+y[4])/12.0*(b-a)\n",
    "    myerr=np.abs(f2-f1)\n",
    "    print([a,b,f1,f2])\n",
    "    if (myerr<tol):\n",
    "        #return (f2)/1.0,myerr,neval\n",
    "        return (16.0*f2-f1)/15.0,myerr,neval\n",
    "    else:\n",
    "        mid=0.5*(b+a)\n",
    "        f_left,err_left,neval_left=simple_integrate(fun,a,mid,tol/2.0)\n",
    "        f_right,err_right,neval_right=simple_integrate(fun,mid,b,tol/2.0)\n",
    "        neval=neval+neval_left+neval_right\n",
    "        f=f_left+f_right\n",
    "        err=err_left+err_right\n",
    "        return f,err,neval"
   ]
  },
  {
   "cell_type": "code",
   "execution_count": 5,
   "metadata": {},
   "outputs": [],
   "source": [
    "def x3(x):\n",
    "    return x**3"
   ]
  },
  {
   "cell_type": "code",
   "execution_count": 13,
   "metadata": {},
   "outputs": [
    {
     "name": "stdout",
     "output_type": "stream",
     "text": [
      "integrating from  0  to  1.5707963267948966\n",
      "integrating from  0  to  0.7853981633974483\n",
      "integrating from  0  to  0.39269908169872414\n",
      "integrating from  0.39269908169872414  to  0.7853981633974483\n",
      "integrating from  0.7853981633974483  to  1.5707963267948966\n",
      "1.0000027950539763\n"
     ]
    }
   ],
   "source": [
    "ans=integrate_step(np.cos,0,0.5*np.pi,0.0001)\n",
    "print(ans)"
   ]
  },
  {
   "cell_type": "code",
   "execution_count": 15,
   "metadata": {},
   "outputs": [
    {
     "name": "stdout",
     "output_type": "stream",
     "text": [
      "[-1, 1, 2.362053756543496, 2.3511948318802554]\n",
      "[-1, 0.0, 0.6323336800036626, 0.6321341753205323]\n",
      "[0.0, 1, 1.7188611518765928, 1.7183188419217472]\n",
      "[0.0, 0.5, 0.6487352447875911, 0.648722148950655]\n",
      "[0.5, 1, 1.069583597134156, 1.0695620057492419]\n",
      "f,err,neval are [2.350402717226764, 0.00023419190498064069, 25] with err 3.299391613253988e-07\n"
     ]
    }
   ],
   "source": [
    "f,err,neval=simple_integrate(np.exp,-1,1,1e-3);pred=np.exp(1)-np.exp(-1)\n",
    "#f,err,neval=simple_integrate(fun,-1,1,1e-4);pred=np.arctan(1)-np.arctan(-1)\n",
    "#a=-5;b=5;f,err,neval=simple_integrate(fun2,a,b,1e-4);pred=(b-a)+np.sqrt(2*np.pi)*sig\n",
    "print('f,err,neval are ' + repr([f,err,neval])+' with err ' + repr(np.abs(f-pred)))"
   ]
  },
  {
   "cell_type": "code",
   "execution_count": null,
   "metadata": {},
   "outputs": [],
   "source": []
  }
 ],
 "metadata": {
  "kernelspec": {
   "display_name": "Python 3",
   "language": "python",
   "name": "python3"
  },
  "language_info": {
   "codemirror_mode": {
    "name": "ipython",
    "version": 3
   },
   "file_extension": ".py",
   "mimetype": "text/x-python",
   "name": "python",
   "nbconvert_exporter": "python",
   "pygments_lexer": "ipython3",
   "version": "3.7.3"
  }
 },
 "nbformat": 4,
 "nbformat_minor": 2
}
