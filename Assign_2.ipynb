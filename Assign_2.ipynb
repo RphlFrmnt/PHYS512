{
 "cells": [
  {
   "cell_type": "markdown",
   "metadata": {},
   "source": [
    "# Header"
   ]
  },
  {
   "cell_type": "code",
   "execution_count": 1,
   "metadata": {},
   "outputs": [],
   "source": [
    "import numpy as np\n",
    "import matplotlib.pyplot as plt\n",
    "import spinmob as s\n",
    "from scipy import interpolate as interpolate\n",
    "from scipy import integrate as integrate\n",
    "import os\n",
    "%matplotlib notebook"
   ]
  },
  {
   "cell_type": "code",
   "execution_count": 2,
   "metadata": {},
   "outputs": [
    {
     "data": {
      "text/plain": [
       "'D:\\\\Raphael\\\\Dropbox\\\\Mcgill\\\\PHYS512_CompPhys\\\\Assignement2'"
      ]
     },
     "execution_count": 2,
     "metadata": {},
     "output_type": "execute_result"
    }
   ],
   "source": [
    "# check directory\n",
    "os.chdir(\"D:\\Raphael\\Dropbox\\Mcgill\\PHYS512_CompPhys\\Assignement2\")\n",
    "os.getcwd()"
   ]
  },
  {
   "cell_type": "markdown",
   "metadata": {},
   "source": [
    "## Defining some functions"
   ]
  },
  {
   "cell_type": "code",
   "execution_count": 3,
   "metadata": {},
   "outputs": [],
   "source": [
    "def x3(x):\n",
    "    return x**3"
   ]
  },
  {
   "cell_type": "code",
   "execution_count": 4,
   "metadata": {},
   "outputs": [],
   "source": [
    "def cos(x):\n",
    "    return np.cos(x)"
   ]
  },
  {
   "cell_type": "code",
   "execution_count": 5,
   "metadata": {},
   "outputs": [],
   "source": [
    "def sin(x):\n",
    "    return np.sin(x)"
   ]
  },
  {
   "cell_type": "code",
   "execution_count": 6,
   "metadata": {},
   "outputs": [],
   "source": [
    "def exp(x):\n",
    "    return np.exp(x)"
   ]
  },
  {
   "cell_type": "code",
   "execution_count": 7,
   "metadata": {},
   "outputs": [],
   "source": [
    "def ln2(x):\n",
    "    return np.log2(x)"
   ]
  },
  {
   "cell_type": "code",
   "execution_count": 8,
   "metadata": {},
   "outputs": [],
   "source": [
    "# Remapping ln2 in the [-1,1]  range.\n",
    "def ln2_remap(x):\n",
    "    return ln2((x+3)/4)"
   ]
  },
  {
   "cell_type": "markdown",
   "metadata": {},
   "source": [
    "# Problem 1 (COMPLETED)\n",
    "\n",
    "Write a recursive variable step size integrator like the one we wrote in class that does NOT call f(x) multiple times for the same x. For a few typical examples, how many function calls do you save vs. the lazy way we wrote it in class?"
   ]
  },
  {
   "cell_type": "code",
   "execution_count": 9,
   "metadata": {},
   "outputs": [],
   "source": [
    "# Function wrote in class.\n",
    "\n",
    "def integrate_step(fun,tol,x1,x2):\n",
    "    \n",
    "    x=np.linspace(x1,x2,5)\n",
    "    y=fun(x)\n",
    "    nb_eval = len(x) #let's keep track of function evaluations\n",
    "    \n",
    "    # Uncomment the next line to see the integration limits for each recursion and the total number of f(x) evaluation.\n",
    "    #print('integrating from ',x1,' to ',x2,\"/ Nb eval:\",nb_eval)\n",
    "    \n",
    "    area1=(x2-x1)*(y[0]+4*y[2]+y[4])/6\n",
    "    area2=(x2-x1)*( y[0]+4*y[1]+2*y[2]+4*y[3]+y[4])/12\n",
    "    myerr=np.abs(area1-area2)\n",
    "    if myerr<tol:\n",
    "        return area2, nb_eval\n",
    "    else:\n",
    "        xm=0.5*(x1+x2)\n",
    "        a1, nb_eval_1 = integrate_step(fun,tol/2,x1,xm)\n",
    "        a2, nb_eval_2 = integrate_step(fun,tol/2,xm,x2)\n",
    "        nb_eval = nb_eval + nb_eval_1 + nb_eval_2\n",
    "        return a1+a2, nb_eval"
   ]
  },
  {
   "cell_type": "code",
   "execution_count": 10,
   "metadata": {},
   "outputs": [],
   "source": [
    "# New function. For every call which is not the first one, I keep 3 f(x) values from \n",
    "# the last recursion so that I only evaluate f(x) 2 times instead of 5 times.\n",
    "\n",
    "def new_integrate_step(fun,tol, x1,x2, y0=0.0,y1=0.0,y2=0.0, rec = 0):\n",
    "    \n",
    "    if rec == 0: #If this is not a recursive call (i.e. the first call)\n",
    "        x=np.linspace(x1,x2,5)\n",
    "        y=fun(x)\n",
    "        nb_eval = len(x) #let's keep track of function evaluations\n",
    "    \n",
    "    if rec == 1: #If this  is a recursive call (i.e. not the first call)\n",
    "        x=np.linspace(x1,x2,5)\n",
    "        y = np.zeros(5)\n",
    "        y[0] = y0\n",
    "        y[1] = fun(x[1])\n",
    "        y[2] = y1\n",
    "        y[3] = fun(x[3])\n",
    "        y[4] = y2\n",
    "        nb_eval = 2\n",
    "        \n",
    "    # Uncomment the next line to see the integration limits for each recursion and the total number of f(x) evaluation.\n",
    "    #print('integrating from ',x1,' to ',x2,\"/ Nb eval:\",nb_eval)\n",
    "           \n",
    "    area1=(x2-x1)*(y[0]+4*y[2]+y[4])/6\n",
    "    area2=(x2-x1)*( y[0]+4*y[1]+2*y[2]+4*y[3]+y[4])/12\n",
    "    myerr=np.abs(area1-area2)\n",
    "    if myerr<tol:\n",
    "        return area2, nb_eval\n",
    "    else:\n",
    "        #print(\"nb_call = \",nb_call)\n",
    "        xm=0.5*(x1+x2)\n",
    "        a1, nb_eval_1 = new_integrate_step(fun,tol/2, x1,xm, y[0],y[1],y[2], rec=1)\n",
    "        a2, nb_eval_2 = new_integrate_step(fun,tol/2, xm,x2, y[2],y[3],y[4], rec=1)\n",
    "        nb_eval = nb_eval + nb_eval_1 + nb_eval_2\n",
    "        return a1+a2, nb_eval"
   ]
  },
  {
   "cell_type": "markdown",
   "metadata": {},
   "source": [
    "Let's now test the new integrator for 3 functions. \n",
    "\n",
    "In each case, I will compute the exact value, the old integrator value, the new integrator value, the number of f(x) call for both integrator an"
   ]
  },
  {
   "cell_type": "code",
   "execution_count": 11,
   "metadata": {},
   "outputs": [],
   "source": [
    "# Defining a comparaison function:\n",
    "def comp(fun, ans_exact, a, b, tol):\n",
    "    ans_old, nb_eval_old = integrate_step(fun,tol,a,b)\n",
    "    ans_new, nb_eval_new = new_integrate_step(fun,tol,a,b)\n",
    "    print(\"Function :\",fun.__name__)\n",
    "    print(\"[Old integrator] Value:\",ans_old,\"/Error:\",ans_old-ans_exact,\"/Nb f(x) eval:\",nb_eval_old)\n",
    "    print(\"[New integrator] Value:\",ans_new,\"/Error:\",ans_new-ans_exact,\"/Nb f(x) eval:\",nb_eval_new)\n",
    "    print(\"Difference in evaluation b/w the 2 integrators:\",ans_old - ans_new)\n",
    "    print(nb_eval_old - nb_eval_new,\"saved f(x) evaluation(s)\")"
   ]
  },
  {
   "cell_type": "code",
   "execution_count": 12,
   "metadata": {},
   "outputs": [
    {
     "name": "stdout",
     "output_type": "stream",
     "text": [
      "Function : x3\n",
      "[Old integrator] Value: 2500.0 /Error: 0.0 /Nb f(x) eval: 5\n",
      "[New integrator] Value: 2500.0 /Error: 0.0 /Nb f(x) eval: 5\n",
      "Difference in evaluation b/w the 2 integrators: 0.0\n",
      "0 saved f(x) evaluation(s)\n"
     ]
    }
   ],
   "source": [
    "# x^3 from 0 to 10\n",
    "fun = x3\n",
    "a = 0\n",
    "b = 10\n",
    "tol = 1e-10\n",
    "\n",
    "ans_exact = b**4/4 - a**4/4\n",
    "comp(fun,ans_exact, a,b,tol)"
   ]
  },
  {
   "cell_type": "code",
   "execution_count": 13,
   "metadata": {},
   "outputs": [
    {
     "name": "stdout",
     "output_type": "stream",
     "text": [
      "Function : cos\n",
      "[Old integrator] Value: 1.00000000000178 /Error: 1.779909553079051e-12 /Nb f(x) eval: 1035\n",
      "[New integrator] Value: 1.00000000000178 /Error: 1.779909553079051e-12 /Nb f(x) eval: 417\n",
      "Difference in evaluation b/w the 2 integrators: 0.0\n",
      "618 saved f(x) evaluation(s)\n"
     ]
    }
   ],
   "source": [
    "# cos(x) from 0 to pi/2\n",
    "fun = cos\n",
    "a = 0\n",
    "b = np.pi/2\n",
    "tol = 1e-10\n",
    "\n",
    "ans_exact = sin(b) - sin(a)\n",
    "comp(fun,ans_exact,a,b,tol)"
   ]
  },
  {
   "cell_type": "code",
   "execution_count": 14,
   "metadata": {},
   "outputs": [
    {
     "name": "stdout",
     "output_type": "stream",
     "text": [
      "Function : exp\n",
      "[Old integrator] Value: 2.350402387290492 /Error: 2.8892443992845074e-12 /Nb f(x) eval: 1305\n",
      "[New integrator] Value: 2.350402387290492 /Error: 2.8892443992845074e-12 /Nb f(x) eval: 525\n",
      "Difference in evaluation b/w the 2 integrators: 0.0\n",
      "780 saved f(x) evaluation(s)\n"
     ]
    }
   ],
   "source": [
    "# exp(x) from -1 to 1\n",
    "fun = exp\n",
    "a = -1\n",
    "b = 1\n",
    "tol = 1e-10\n",
    "\n",
    "ans_exact = exp(b) - exp(a)\n",
    "comp(fun,ans_exact,a,b,tol)"
   ]
  },
  {
   "cell_type": "markdown",
   "metadata": {},
   "source": [
    "# Problem 2\n",
    "Write a function that models the log base 2 of x valid from 0.5 to 1 to an accuracy in the region better than 10−6\n",
    ". Please use a truncated Chebyshev polynomial fit to do this, and please write your own fit routine (instead of just calling the numpy one). How many terms do you need? Carry out a polynomial fit of the same order (we’ll see how to do this ourselves in\n",
    "coming lectures, but for now I suggest just calling np.polynomial.legendre.legfit, which will be more stable than np.polyfit). Plot the residuals for both the truncated Chebyshev and standard polynomial fits. Which one has higher RMS error? Which one has a larger max error?"
   ]
  },
  {
   "cell_type": "code",
   "execution_count": 15,
   "metadata": {},
   "outputs": [],
   "source": [
    "def cheb_fit(fun,ord):\n",
    "    x=np.linspace(-1,1,ord+1)\n",
    "    y=fun(x)\n",
    "    mat=np.zeros([ord+1,ord+1])\n",
    "    mat[:,0]=1\n",
    "    mat[:,1]=x\n",
    "    for i in range(1,ord):\n",
    "        mat[:,i+1]=2*x*mat[:,i]-mat[:,i-1]\n",
    "    coeffs=np.linalg.inv(mat)@y\n",
    "    return coeffs"
   ]
  },
  {
   "cell_type": "code",
   "execution_count": 16,
   "metadata": {},
   "outputs": [],
   "source": [
    "def cheb_poly(x,nb_coeff):\n",
    "    assert(nb_coeff>3)\n",
    "    T = np.zeros(shape=(nb_coeff, len(x)))\n",
    "    T[0] = np.zeros(len(x)) + 1\n",
    "    T[1] = x\n",
    "    for i in range(nb_coeff-2):\n",
    "        j = i+2\n",
    "        T[j] = 2*x*T[j-1] - T[j-2]\n",
    "    return T"
   ]
  },
  {
   "cell_type": "code",
   "execution_count": 17,
   "metadata": {},
   "outputs": [
    {
     "data": {
      "text/plain": [
       "[<matplotlib.lines.Line2D at 0x2143e9904e0>]"
      ]
     },
     "execution_count": 17,
     "metadata": {},
     "output_type": "execute_result"
    },
    {
     "data": {
      "image/png": "[encoded data removed]",
      "text/plain": [
       "<Figure size 432x288 with 1 Axes>"
      ]
     },
     "metadata": {
      "needs_background": "light"
     },
     "output_type": "display_data"
    }
   ],
   "source": [
    "fun=ln2_remap\n",
    "coeffs=cheb_fit(fun,51)\n",
    "x = np.linspace(-1,1,50)\n",
    "T = cheb_poly(fun(x),len(coeffs))\n",
    "\n",
    "cheb = 0\n",
    "for i in range(len(coeffs)):\n",
    "    cheb = cheb + coeffs[i]*T[i]\n",
    "    \n",
    "plt.plot(x,fun(x),\"y*\")\n",
    "plt.plot(x,cheb,\"r+\")"
   ]
  },
  {
   "cell_type": "markdown",
   "metadata": {},
   "source": [
    "# Problem 3 a)  (COMPLETED)\n",
    "Write a program to solve for the decay products of U238 (refer to slides for the decay chain). You can use the ODE solver from scipy, but you’ll need to set the problem up properly. Please make sure to include all the decay prodcuts in the chain. Assume you start from a sample of pure U238 (in nature, this sort of separation happens chemically when rocks are formed).\n",
    "Which solver would you use for this problem?"
   ]
  },
  {
   "cell_type": "code",
   "execution_count": 69,
   "metadata": {},
   "outputs": [],
   "source": [
    "def decay(x,y): \n",
    "    # 14 step half-life\n",
    "    half_life = np.zeros(14)\n",
    "    half_life[0] = 4.468e9*365.25*24.0*3600*10**6\n",
    "    half_life[1] = 24.1*24.0*3600*10**6\n",
    "    half_life[2] = 6.7*3600*10**6\n",
    "    half_life[3] = 245500*365.25*24*3600*10**6\n",
    "    half_life[4] = 75380*365.25*24*3600*10**6\n",
    "    half_life[5] = 1600*365.25*24*3600*10**6\n",
    "    half_life[6] = 3.8235*24*3600*10**6\n",
    "    half_life[7] = 3.10*60*10**6\n",
    "    half_life[8] = 26.8*60*10**6\n",
    "    half_life[9] = 19.9*60*10**6\n",
    "    half_life[10] = 164.3\n",
    "    half_life[11] = 22.3*365.25*24*3600*10**6\n",
    "    half_life[12] = 5.015*365.25*24*3600*10**6\n",
    "    half_life[13] = 138.376*24*3600*10**6\n",
    "        \n",
    "    dydx = np.zeros(len(half_life)+1)\n",
    "    dydx[0] = -y[0]/half_life[0]\n",
    "    for i in range(1,14):\n",
    "        dydx[i] = y[i-1]/half_life[i-1] - y[i]/half_life[i]\n",
    "    dydx[14] = y[13]/half_life[13]\n",
    "    return dydx"
   ]
  },
  {
   "cell_type": "code",
   "execution_count": 71,
   "metadata": {
    "scrolled": true
   },
   "outputs": [
    {
     "data": {
      "text/plain": [
       "<matplotlib.legend.Legend at 0x21443403710>"
      ]
     },
     "execution_count": 71,
     "metadata": {},
     "output_type": "execute_result"
    },
    {
     "data": {
      "image/png": "[encoded data removed]",
      "text/plain": [
       "<Figure size 432x288 with 1 Axes>"
      ]
     },
     "metadata": {
      "needs_background": "light"
     },
     "output_type": "display_data"
    }
   ],
   "source": [
    "elements = [\"U238\",\"Th234\",\"Pa234\",\"U234\",\"Th230\",\"Ra226\",\"Rn222\",\"Po218\",\"Pb214\",\"Bi214\",\"Po214\",\"Pb210\",\"Bi210\",\"Po210\",\"Pb206\"]\n",
    "y0 = np.array([1,0,0,0,0,0,0,0,0,0,0,0,0,0,0])\n",
    "x0 = 0\n",
    "x1 = 1e24\n",
    "ans = integrate.solve_ivp(decay,[x0,x1],y0,method='Radau')\n",
    "\n",
    "for i,name in enumerate(elements):\n",
    "    plt.plot(ans.t,ans.y[i],\"-o\",label=name)\n",
    "plt.legend()"
   ]
  },
  {
   "cell_type": "markdown",
   "metadata": {},
   "source": [
    "# Problem 3 b) (COMPLETED)\n",
    "Plot the ratio of Pb206 to U238 as a function of time over a region where it’s interesting. Does this make sense analytically? (If you look at the decay chain, all the half-lives are short compared to U238, so you can approximate the U238 decaying instantly to lead. Now plot the ratio of Thorium 230 to U234 over a region where that is interesting. Radioactive decay is frequently used to date rocks, and these results point at how you can determine the age of a uranium-bearing rock that is anywhere from thousands to billions of years old. (Of course, in this case the starting ratio of U234 to U238 would probably have already reached its long-term average when the rock was formed, but you could still use the U234/Th230 ratio under that assumption.)"
   ]
  },
  {
   "cell_type": "code",
   "execution_count": 95,
   "metadata": {},
   "outputs": [
    {
     "data": {
      "text/plain": [
       "[<matplotlib.lines.Line2D at 0x21443737438>]"
      ]
     },
     "execution_count": 95,
     "metadata": {},
     "output_type": "execute_result"
    },
    {
     "data": {
      "image/png": "[encoded data removed]",
      "text/plain": [
       "<Figure size 432x288 with 1 Axes>"
      ]
     },
     "metadata": {
      "needs_background": "light"
     },
     "output_type": "display_data"
    }
   ],
   "source": [
    "# Ratio of Pb206/U238\n",
    "plt.plot(ans.t,ans.y[14]/ans.y[0],\"-ob\")"
   ]
  },
  {
   "cell_type": "markdown",
   "metadata": {},
   "source": [
    "It does makes sense analytically. The more times passes, the less U238 is left (almost none at 1e24 microseconds); thus the ratio blows up as times passes."
   ]
  },
  {
   "cell_type": "code",
   "execution_count": 94,
   "metadata": {},
   "outputs": [
    {
     "data": {
      "text/plain": [
       "(-1e+19, 1e+20)"
      ]
     },
     "execution_count": 94,
     "metadata": {},
     "output_type": "execute_result"
    },
    {
     "data": {
      "image/png": "[encoded data removed]",
      "text/plain": [
       "<Figure size 432x288 with 1 Axes>"
      ]
     },
     "metadata": {
      "needs_background": "light"
     },
     "output_type": "display_data"
    }
   ],
   "source": [
    "# Ratio of Pb206/U238\n",
    "plt.plot(ans.t,ans.y[4]/ans.y[3],\"-ob\")\n",
    "plt.xlim(0-1e19,1e20)"
   ]
  }
 ],
 "metadata": {
  "kernelspec": {
   "display_name": "Python 3",
   "language": "python",
   "name": "python3"
  },
  "language_info": {
   "codemirror_mode": {
    "name": "ipython",
    "version": 3
   },
   "file_extension": ".py",
   "mimetype": "text/x-python",
   "name": "python",
   "nbconvert_exporter": "python",
   "pygments_lexer": "ipython3",
   "version": "3.7.3"
  }
 },
 "nbformat": 4,
 "nbformat_minor": 2
}
