{
 "cells": [
  {
   "cell_type": "markdown",
   "metadata": {},
   "source": [
    "# Headers"
   ]
  },
  {
   "cell_type": "code",
   "execution_count": 1,
   "metadata": {},
   "outputs": [],
   "source": [
    "import numpy as np\n",
    "import matplotlib.pyplot as plt\n",
    "import spinmob as s\n",
    "from scipy import interpolate as interpolate\n",
    "from scipy import integrate as integrate\n",
    "import os"
   ]
  },
  {
   "cell_type": "markdown",
   "metadata": {},
   "source": [
    "### Check directory"
   ]
  },
  {
   "cell_type": "code",
   "execution_count": 2,
   "metadata": {},
   "outputs": [
    {
     "data": {
      "text/plain": [
       "'D:\\\\Raphael\\\\Dropbox\\\\Mcgill\\\\PHYS512_CompPhys\\\\Assignement1'"
      ]
     },
     "execution_count": 2,
     "metadata": {},
     "output_type": "execute_result"
    }
   ],
   "source": [
    "os.chdir(\"D:\\Raphael\\Dropbox\\Mcgill\\PHYS512_CompPhys\\Assignement1\")\n",
    "os.getcwd()"
   ]
  },
  {
   "cell_type": "markdown",
   "metadata": {},
   "source": [
    "# Problem 1 (find dx value theory)\n",
    "We saw in class how Taylor series/roundoff errors fight against\n",
    "each other when deciding how big a step size to use when calculating numerical\n",
    "derivatives. If we allow ourselves to evaluate our function f at four points (x +/- delta and x +/- 2delta),\n",
    "\n",
    "a) what should our estimate of the first derivative at x be? Rather than doing\n",
    "a complicated fit, I suggest thinking about how to combine the derivative from\n",
    "x +/- delta with the derivative from x +/- 2delta to cancel the next term in the Taylor series.\n",
    "\n",
    "b) Now that you have your operator for the derivative, what should delta be in\n",
    "terms of the machine precision and various properties of the function? Show for\n",
    "f(x) = exp(x) and f(x) = exp(0.01x) that your estimate of the optimal delta is at least roughly correct."
   ]
  },
  {
   "cell_type": "markdown",
   "metadata": {},
   "source": [
    "### a)\n",
    "\n",
    "NOTE : dx = d here for convenience..\n",
    "\n",
    "f(x+d) = f(x) + f'(x)d + (1/2)f\"(x)d^2 + (1/6)f\"'(x)d^3 + ...\n",
    "\n",
    "f(x-d) = f(x) - f'(x)d + (1/2)f\"(x)d^2 - (1/6)f\"'(x)d^3 + ...\n",
    "\n",
    "f(x+2d) = f(x) + 2f'(x)d + 2f\"(x)d^2 + (4/3)f\"'(x)d^3 + ...\n",
    "\n",
    "f(x+2d) = f(x) - 2f'(x)d + 2f\"(x)d^2 - (4/3)f\"'(x)d^3 + ...\n",
    "\n",
    "Then, we can combine the +/- of each to remove the f\"(x) part:\n",
    "\n",
    "f(x+d) - f(x-d) = 2f'(x)d + (1/3)f\"'(x)d^3 + ...\n",
    "\n",
    "f(x+2d) - f(x-2d) = 4f'(x)d + (8/3)f\"'(x)d^3 + ...\n",
    "\n",
    "Then, to remove the f\"'(x) part, we combine both above equations:\n",
    "\n",
    "8(f(x+d) - f(x-d)) - (f(x+2d) - f(x-2d)) = 16f'(x)d + (8/3)f\"'(x)d^3 - 4f'(x)d - (8/3)f\"'(x)d^3 + ...\n",
    "\n",
    "8(f(x+d) - f(x-d)) - (f(x+2d) - f(x-2d)) = 12f'(x)d + ...\n",
    "\n",
    "We thus obtain the f'(x):\n",
    "\n",
    "f'(x) = (8(f(x+d) - f(x-d)) - (f(x+2d) - f(x-2d)))/(12d)\n"
   ]
  },
  {
   "cell_type": "markdown",
   "metadata": {},
   "source": [
    "### b)"
   ]
  },
  {
   "cell_type": "markdown",
   "metadata": {},
   "source": [
    "Let's approximate the best dx value"
   ]
  },
  {
   "cell_type": "code",
   "execution_count": 3,
   "metadata": {
    "scrolled": false
   },
   "outputs": [
    {
     "name": "stdout",
     "output_type": "stream",
     "text": [
      "f(x) = exp(x)\n",
      "dx =10^ -8.0 /  f' = 2.7182818181555506  /  error = 1.0303494502039712e-08\n",
      "dx =10^ -7.5 /  f' = 2.7182818359115215  /  error = 7.452476413760678e-09\n",
      "dx =10^ -7.0 /  f' = 2.718281828887707  /  error = 4.286619947890813e-10\n",
      "dx =10^ -6.5 /  f' = 2.7182818284217434  /  error = 3.730171727056586e-11\n",
      "dx =10^ -6.0 /  f' = 2.7182818282585806  /  error = 2.0046453386157737e-10\n",
      "dx =10^ -5.5 /  f' = 2.71828182849196  /  error = 3.291500405566694e-11\n",
      "dx =10^ -5.0 /  f' = 2.7182818284769237  /  error = 1.787858749935367e-11\n",
      "dx =10^ -4.5 /  f' = 2.718281828469724  /  error = 1.0679013229264456e-11\n",
      "dx =10^ -4.0 /  f' = 2.7182818284591606  /  error = 1.1546319456101628e-13\n",
      "dx =10^ -3.5 /  f' = 2.718281828458724  /  error = 3.2107649872159527e-13\n",
      "dx =10^ -3.0 /  f' = 2.7182818284585317  /  error = 5.133671265866724e-13\n",
      "dx =10^ -2.5 /  f' = 2.7182818284499706  /  error = 9.07451891407618e-12\n",
      "dx =10^ -2.0 /  f' = 2.718281827552945  /  error = 9.061000838528344e-10\n",
      "dx =10^ -1.5 /  f' = 2.718281737838867  /  error = 9.0620178028189e-08\n",
      "dx =10^ -1.0 /  f' = 2.7182727567264906  /  error = 9.071732554488676e-06\n",
      "dx =10^ -0.5 /  f' = 2.7173648845282505  /  error = 0.0009169439307945559\n",
      "dx =10^ 0.0 /  f' = 2.6162326091190815  /  error = 0.10204921933996358\n",
      "dx =10^ 0.5 /  f' = -26.464937836984735  /  error = 29.18321966544378\n",
      "dx =10^ 1.0 /  f' = -10986139.511254003  /  error = 10986142.229535831\n",
      "dx =10^ 1.5 /  f' = -2.1004289572710904e+25  /  error = 2.1004289572710904e+25\n",
      "dx =10^ 2.0 /  f' = -1.6368527655681633e+84  /  error = 1.6368527655681633e+84\n"
     ]
    }
   ],
   "source": [
    "# Testing dx values (called \"d\" for ease) for f = exp(x)\n",
    "expval = np.linspace(-8,2,21)\n",
    "f = np.exp\n",
    "x = 1\n",
    "print(\"f(x) = exp(x)\")\n",
    "for val in expval:\n",
    "    d = 10**val\n",
    "    f_prime = (8*f(x+d) - 8*f(x-d) - f(x+2*d) + f(x-2*d))/(12*d)\n",
    "    f_prime_truth = f(x)\n",
    "    error = np.abs(f_prime - f_prime_truth)\n",
    "    print(\"dx =10^\",val,\"/  f' =\",f_prime,\" /  error =\",error)"
   ]
  },
  {
   "cell_type": "markdown",
   "metadata": {},
   "source": [
    "Here, dx value the order of 10^(-4) gives the best approximation."
   ]
  },
  {
   "cell_type": "code",
   "execution_count": 4,
   "metadata": {},
   "outputs": [
    {
     "name": "stdout",
     "output_type": "stream",
     "text": [
      "f(x) = exp(0.01x)\n",
      "dx =10^ -8.0 /  f' = 0.010100511168194732  /  error = 9.497353051571289e-09\n",
      "dx =10^ -7.5 /  f' = 0.010100503465061058  /  error = 1.7942193772380044e-09\n",
      "dx =10^ -7.0 /  f' = 0.010100501361224683  /  error = 3.0961699697129585e-10\n",
      "dx =10^ -6.5 /  f' = 0.010100501885185997  /  error = 2.143443166013892e-10\n",
      "dx =10^ -6.0 /  f' = 0.010100501638780438  /  error = 3.2061242549730196e-11\n",
      "dx =10^ -5.5 /  f' = 0.010100501692090156  /  error = 2.1248475201574024e-11\n",
      "dx =10^ -5.0 /  f' = 0.010100501666536013  /  error = 4.305666934101282e-12\n",
      "dx =10^ -4.5 /  f' = 0.01010050167278057  /  error = 1.9388900207584214e-12\n",
      "dx =10^ -4.0 /  f' = 0.01010050167060683  /  error = 2.348503336246921e-13\n",
      "dx =10^ -3.5 /  f' = 0.010100501670732585  /  error = 1.0909502468070542e-13\n",
      "dx =10^ -3.0 /  f' = 0.010100501670754861  /  error = 8.681944052568724e-14\n",
      "dx =10^ -2.5 /  f' = 0.010100501670820357  /  error = 2.1323220966706913e-14\n",
      "dx =10^ -2.0 /  f' = 0.010100501670836278  /  error = 5.401928904191777e-15\n",
      "dx =10^ -1.5 /  f' = 0.010100501670843762  /  error = 2.0816681711721685e-15\n",
      "dx =10^ -1.0 /  f' = 0.010100501670840163  /  error = 1.5178830414797062e-15\n",
      "dx =10^ -0.5 /  f' = 0.01010050167080801  /  error = 3.3670982668709826e-14\n",
      "dx =10^ 0.0 /  f' = 0.010100501667474782  /  error = 3.3668987736712452e-12\n",
      "dx =10^ 0.5 /  f' = 0.0101005013341182  /  error = 3.3672348069557767e-10\n",
      "dx =10^ 1.0 /  f' = 0.010100467962398033  /  error = 3.3708443647473274e-08\n",
      "dx =10^ 1.5 /  f' = 0.010097094520925106  /  error = 3.4071499165743563e-06\n",
      "dx =10^ 2.0 /  f' = 0.00972131055840441  /  error = 0.0003791911124372705\n"
     ]
    }
   ],
   "source": [
    "# Testing dx values (called \"d\" for ease) for f = exp(0.01x)\n",
    "expval = np.linspace(-8,2,21)\n",
    "def f(x):\n",
    "    return np.exp(0.01*x)\n",
    "x = 1\n",
    "print(\"f(x) = exp(0.01x)\")\n",
    "for val in expval:\n",
    "    d = 10**val\n",
    "    f_prime = (8*f(x+d) - 8*f(x-d) - f(x+2*d) + f(x-2*d))/(12*d)\n",
    "    f_prime_truth = 0.01*f(x)\n",
    "    error = np.abs(f_prime - f_prime_truth)\n",
    "    print(\"dx =10^\",val,\"/  f' =\",f_prime,\" /  error =\",error)"
   ]
  },
  {
   "cell_type": "markdown",
   "metadata": {},
   "source": [
    "Here, dx value the order of 10^(-1) gives the best approximation."
   ]
  },
  {
   "cell_type": "markdown",
   "metadata": {},
   "source": [
    "# Problem 2 (COMPLETED)\n",
    "\n",
    "Lakeshore 670 diodes (successors to the venerable Lakeshore\n",
    "470) are temperature-sensitive diodes used for a range of cryogenic temperature\n",
    "measurements. They are fed with a constant 10 µA current, and the voltage is\n",
    "read out. Lakeshore provides a chart that converts voltage to temperature, available at https://www.lakeshore.com/products/categories/specification/temperatureproducts/cryogenic-temperature-sensors/dt-670-silicon-diodes, or you can look\n",
    "at the text file I’ve helpfully copied and pasted (lakeshore.txt). Write a routine\n",
    "that will take an arbitrary voltage and interpolate to return a temperature. You\n",
    "should also make some sort of quantitative (but possibly rough) estimate of the\n",
    "error in your interpolation as well (this is a common situation where you have\n",
    "been presented with data and have to figure out some idea of how to get error\n",
    "estimates)."
   ]
  },
  {
   "cell_type": "markdown",
   "metadata": {},
   "source": [
    "### Obtain data for problem 2"
   ]
  },
  {
   "cell_type": "code",
   "execution_count": 5,
   "metadata": {},
   "outputs": [],
   "source": [
    "# Importing and storing the data by Temperature and Voltage\n",
    "lakeshore = s.data.load('lakeshore.txt')\n",
    "V_g = lakeshore[1] #Voltage given\n",
    "T_g = lakeshore[0] #Temperature given\n",
    "index = len(V_g) #Number of point stored."
   ]
  },
  {
   "cell_type": "markdown",
   "metadata": {},
   "source": [
    "The data are sorted in temperature order (aka T_min to T_max). However, we want to use voltage as our x-axis, hence we need to make sure that the data is sorted in voltage order (aka V_min to T_max)."
   ]
  },
  {
   "cell_type": "code",
   "execution_count": 6,
   "metadata": {},
   "outputs": [],
   "source": [
    "# Sort the Voltage to use them as x values\n",
    "V_s = sorted(V_g)\n",
    "T_s = np.zeros(index)\n",
    "for i in range(index):\n",
    "    for j in range(index):\n",
    "        if V_s[i] == V_g[j]:\n",
    "            T_s[i] = T_g[j]\n",
    "            \n",
    "#Note : I checked first that no voltage value were indentical."
   ]
  },
  {
   "cell_type": "markdown",
   "metadata": {},
   "source": [
    "Let's now use the spline interpolation to interpolate our data and also obtain a given arbitrary value."
   ]
  },
  {
   "cell_type": "code",
   "execution_count": 7,
   "metadata": {
    "scrolled": true
   },
   "outputs": [
    {
     "name": "stdout",
     "output_type": "stream",
     "text": [
      "For a voltage 0.5 V, the temperature of the diode is 325.75028676872336 K\n"
     ]
    },
    {
     "data": {
      "image/png": "[encoded data removed]",
      "text/plain": [
       "<Figure size 432x288 with 1 Axes>"
      ]
     },
     "metadata": {
      "needs_background": "light"
     },
     "output_type": "display_data"
    }
   ],
   "source": [
    "V_a = 0.5 # Set some given arbitrary voltage\n",
    "\n",
    "V_i = np.linspace(V_s[0], V_s[-1],2001) #setting interpolated Voltage\n",
    "\n",
    "#Using spline\n",
    "spln = interpolate.splrep(V_s,T_s) #Setting the spline\n",
    "T_i = interpolate.splev(V_i, spln) #interpolated temperatures\n",
    "T_a = interpolate.splev(V_a, spln) #temperature from arbitrary Voltage\n",
    "\n",
    "#Plot\n",
    "plt.plot(V_s, T_s, 'b*') # Sorted given values\n",
    "plt.plot(V_i, T_i, 'k') # Interpolated values\n",
    "plt.plot(V_a, T_a, 'ys') # arbitrary given value\n",
    "plt.xlabel(\"Voltage (V)\")\n",
    "plt.ylabel(\"Temperature (K)\")\n",
    "\n",
    "print(\"For a voltage\",V_a,\"V, the temperature of the diode is\",T_a,\"K\")"
   ]
  },
  {
   "cell_type": "markdown",
   "metadata": {},
   "source": [
    "Now that this works, let's write a function that gives us that!"
   ]
  },
  {
   "cell_type": "code",
   "execution_count": 8,
   "metadata": {},
   "outputs": [],
   "source": [
    "def Spline(x,y,a):\n",
    "    spln = interpolate.splrep(x,y)#Setting the spline\n",
    "    return interpolate.splev(a, spln) #obtaining interpolated b from given a"
   ]
  },
  {
   "cell_type": "markdown",
   "metadata": {},
   "source": [
    "Let's now, using our spline, obtain the interpolated temperature (T) at all given voltages (V_s) and see if they fit the given temperature (T_s). Then, doing the average of the difference between T and T_s we can obtain an error approximation for our spline interpolation."
   ]
  },
  {
   "cell_type": "code",
   "execution_count": 9,
   "metadata": {},
   "outputs": [
    {
     "name": "stdout",
     "output_type": "stream",
     "text": [
      "error approxiamtion of spline = 1.1757570226065025e-14\n"
     ]
    }
   ],
   "source": [
    "error_sum = 0\n",
    "for i,V in enumerate(V_s):\n",
    "    T = Spline(V_s,T_s,V)\n",
    "    error_sum = error_sum + np.abs(T-T_s[i])\n",
    "error_mean = error_sum/len(V_s)\n",
    "print(\"error approxiamtion of spline =\",error_mean)"
   ]
  },
  {
   "cell_type": "markdown",
   "metadata": {},
   "source": [
    "# Problem 3 (COMPLETED)\n",
    "\n",
    "Take cos(x) between −π/2 and π/2. Compare the accuracy of\n",
    "polynomial, cubic spline, and rational function interpolation given some modest\n",
    "number of points, but for fairness each method should use the same points. Now\n",
    "try using a Lorentzian 1/(1 + x^2) between -1 and 1.\n",
    "\n",
    "What should the error be for the Lorentzian from the rational function fit?\n",
    "Does what you got agree with your expectations when the order is higher (say\n",
    "n=4, m=5)? What happens if you switch from np.linalg.inv to np.linalg.pinv\n",
    "(which tries to deal with singular matrices)? Can you understand what has\n",
    "happened by looking at p and q?"
   ]
  },
  {
   "cell_type": "markdown",
   "metadata": {},
   "source": [
    "### Set the cos function"
   ]
  },
  {
   "cell_type": "code",
   "execution_count": 10,
   "metadata": {},
   "outputs": [],
   "source": [
    "# Define the cos function and nb_pts given points\n",
    "cos = np.cos\n",
    "nb_pts = 50\n",
    "x = np.linspace(-np.pi/2,np.pi/2,nb_pts)\n",
    "y = cos(x)\n",
    "\n",
    "# Defining the x values in which we will interpolate, taking into account the limitation of each function\n",
    "#    Removing the ends points since the polynomial cannot take them into account\n",
    "xx = np.linspace(x[1],x[-2]-1e-15,nb_pts*100)\n",
    "\n",
    "#    Removing all element closer than abs(limit) from 0. Since the rational funcion blows up at 0.\n",
    "limit = 0.1\n",
    "index0 = []\n",
    "for i,xx_i in enumerate(xx):\n",
    "    if np.abs(xx_i)<limit:\n",
    "        index0 = np.append(index0,i)\n",
    "xx = np.delete(xx,index0)\n",
    "\n",
    "# Calculating the real cos(x)\n",
    "yy_real = cos(xx)"
   ]
  },
  {
   "cell_type": "markdown",
   "metadata": {},
   "source": [
    "### Interpolate using polynomial"
   ]
  },
  {
   "cell_type": "code",
   "execution_count": 11,
   "metadata": {},
   "outputs": [
    {
     "name": "stdout",
     "output_type": "stream",
     "text": [
      "Mean error for polynomial interpolation is 1.653477879069014e-07\n"
     ]
    },
    {
     "data": {
      "image/png": "[encoded data removed]",
      "text/plain": [
       "<Figure size 432x288 with 1 Axes>"
      ]
     },
     "metadata": {
      "needs_background": "light"
     },
     "output_type": "display_data"
    }
   ],
   "source": [
    "yy = 0*xx\n",
    "dx = np.median(np.diff(x))\n",
    "\n",
    "for i,xx_i in enumerate(xx):\n",
    "    j = np.int((xx_i + np.pi/2)/dx)\n",
    "    pp = np.polyfit(x[j-1:j+3], y[j-1:j+3], 3)\n",
    "    yy[i] = np.polyval(pp,xx_i)\n",
    "\n",
    "plt.plot(x,y,\"b*\")\n",
    "plt.plot(xx,yy,\"k\")\n",
    "\n",
    "mean_err_poly = np.mean(np.abs(yy-yy_real))\n",
    "print(\"Mean error for polynomial interpolation is\",mean_err_poly)"
   ]
  },
  {
   "cell_type": "markdown",
   "metadata": {},
   "source": [
    "### Interpolate using spline### "
   ]
  },
  {
   "cell_type": "code",
   "execution_count": 12,
   "metadata": {},
   "outputs": [
    {
     "name": "stdout",
     "output_type": "stream",
     "text": [
      "Mean error for spline interpolation is 1.5264505177752606e-08\n"
     ]
    },
    {
     "data": {
      "image/png": "[encoded data removed]",
      "text/plain": [
       "<Figure size 432x288 with 1 Axes>"
      ]
     },
     "metadata": {
      "needs_background": "light"
     },
     "output_type": "display_data"
    }
   ],
   "source": [
    "spln = interpolate.splrep(x,y) #Setting the spline\n",
    "yy = interpolate.splev(xx, spln)\n",
    "\n",
    "plt.plot(x,y,\"b*\")\n",
    "plt.plot(xx,yy,\"k\")\n",
    "\n",
    "mean_err_spline = np.mean(np.abs(yy-yy_real))\n",
    "print(\"Mean error for spline interpolation is\",mean_err_spline)"
   ]
  },
  {
   "cell_type": "markdown",
   "metadata": {},
   "source": [
    "### Interpolation rational function"
   ]
  },
  {
   "cell_type": "code",
   "execution_count": 13,
   "metadata": {},
   "outputs": [
    {
     "name": "stdout",
     "output_type": "stream",
     "text": [
      "Mean error for rational interpolation is 8.127780565558238e-06\n"
     ]
    },
    {
     "data": {
      "image/png": "[encoded data removed]",
      "text/plain": [
       "<Figure size 432x288 with 1 Axes>"
      ]
     },
     "metadata": {
      "needs_background": "light"
     },
     "output_type": "display_data"
    }
   ],
   "source": [
    "#Obtain the coeffient of the rational function\n",
    "def rat_fit(x,y,n,m):\n",
    "    assert(len(x)==n+m-1)\n",
    "    assert(len(y)==len(x))\n",
    "    mat = np.zeros([n+m-1,n+m-1])\n",
    "    for i in range(n):\n",
    "        mat[:,i] = x**i\n",
    "    for i in range(1,m):\n",
    "        mat[:,i-1+n] = -y*x**i\n",
    "    pars=np.dot(np.linalg.inv(mat),y)\n",
    "    p=pars[:n]\n",
    "    q=pars[n:]\n",
    "    return p,q\n",
    "\n",
    "#Obtain the y value of the rational funtional function at a given x\n",
    "def rat_eval(p,q,x):\n",
    "    top=0\n",
    "    for i in range(len(p)):\n",
    "        top=top+p[i]*x**(i)\n",
    "    bot=1\n",
    "    for i in range(len(q)):\n",
    "        bot=bot+q[i]*x**(i+1)\n",
    "    return top/bot\n",
    "\n",
    "# Set the cooeficient of the rational function\n",
    "n = int(nb_pts/2)\n",
    "m = int(nb_pts/2 + 1)\n",
    "p,q=rat_fit(x,y,n,m)\n",
    "\n",
    "yy = rat_eval(p,q,xx)\n",
    "\n",
    "plt.plot(x,y,\"b*\")\n",
    "plt.plot(xx,yy,\"k\")\n",
    "\n",
    "mean_err_rat = np.mean(np.abs(yy-yy_real))\n",
    "print(\"Mean error for rational interpolation is\",mean_err_rat)"
   ]
  },
  {
   "cell_type": "code",
   "execution_count": 14,
   "metadata": {},
   "outputs": [
    {
     "data": {
      "text/plain": [
       "(1.653477879069014e-07, 1.5264505177752606e-08, 8.127780565558238e-06)"
      ]
     },
     "execution_count": 14,
     "metadata": {},
     "output_type": "execute_result"
    }
   ],
   "source": [
    "error = (mean_err_poly, mean_err_spline, mean_err_rat)\n",
    "error"
   ]
  },
  {
   "cell_type": "markdown",
   "metadata": {},
   "source": [
    "Comparing these techniques, we obtain that the spline gives us the best accuracy. (1 order of magnitude better than the polynomial and 2 order better than the rational.) The spline is also the only interpolation method that, in this case, does not have any input limitation."
   ]
  },
  {
   "cell_type": "markdown",
   "metadata": {},
   "source": [
    "### Set the Lorentzian function"
   ]
  },
  {
   "cell_type": "code",
   "execution_count": 15,
   "metadata": {},
   "outputs": [],
   "source": [
    "# Define the cos function and nb_pts given points\n",
    "def Lor(x):\n",
    "    return 1/(1+x**2)\n",
    "nb_pts = 50\n",
    "x = np.linspace(-1,1,nb_pts)\n",
    "y = Lor(x)\n",
    "\n",
    "# Defining the x values in which we will interpolate, taking into account the limitation of each function\n",
    "#    Removing the ends points since the polynomial cannot take them into account\n",
    "xx = np.linspace(x[1],x[-2]-1e-15,nb_pts*100)\n",
    "\n",
    "#    Removing all element closer than abs(limit) from 0. Since the rational funcion blows up at 0.\n",
    "limit = 0.08\n",
    "index0 = []\n",
    "for i,xx_i in enumerate(xx):\n",
    "    if np.abs(xx_i)<limit:\n",
    "        index0 = np.append(index0,i)\n",
    "xx = np.delete(xx,index0)\n",
    "\n",
    "# Calculating the real cos(x)\n",
    "yy_real = Lor(xx)"
   ]
  },
  {
   "cell_type": "markdown",
   "metadata": {},
   "source": [
    "### Interpolate using polynomial"
   ]
  },
  {
   "cell_type": "code",
   "execution_count": 16,
   "metadata": {},
   "outputs": [
    {
     "name": "stdout",
     "output_type": "stream",
     "text": [
      "Mean error for polynomial interpolation is 3.537485475008008e-07\n"
     ]
    },
    {
     "data": {
      "image/png": "[encoded data removed]",
      "text/plain": [
       "<Figure size 432x288 with 1 Axes>"
      ]
     },
     "metadata": {
      "needs_background": "light"
     },
     "output_type": "display_data"
    }
   ],
   "source": [
    "yy = 0*xx\n",
    "dx = np.median(np.diff(x))\n",
    "\n",
    "for i,xx_i in enumerate(xx):\n",
    "    j = np.int((xx_i + 1)/dx)\n",
    "    pp = np.polyfit(x[j-1:j+3], y[j-1:j+3], 3)\n",
    "    yy[i] = np.polyval(pp,xx_i)\n",
    "\n",
    "plt.plot(x,y,\"b*\")\n",
    "plt.plot(xx,yy,\"k\")\n",
    "\n",
    "mean_err_poly = np.mean(np.abs(yy-yy_real))\n",
    "print(\"Mean error for polynomial interpolation is\",mean_err_poly)"
   ]
  },
  {
   "cell_type": "markdown",
   "metadata": {},
   "source": [
    "### Interpolate using spline"
   ]
  },
  {
   "cell_type": "code",
   "execution_count": 17,
   "metadata": {},
   "outputs": [
    {
     "name": "stdout",
     "output_type": "stream",
     "text": [
      "Mean error for spline interpolation is 3.476835660967541e-08\n"
     ]
    },
    {
     "data": {
      "image/png": "[encoded data removed]",
      "text/plain": [
       "<Figure size 432x288 with 1 Axes>"
      ]
     },
     "metadata": {
      "needs_background": "light"
     },
     "output_type": "display_data"
    }
   ],
   "source": [
    "spln = interpolate.splrep(x,y) #Setting the spline\n",
    "yy = interpolate.splev(xx, spln)\n",
    "\n",
    "plt.plot(x,y,\"b*\")\n",
    "plt.plot(xx,yy,\"k\")\n",
    "\n",
    "mean_err_spline = np.mean(np.abs(yy-yy_real))\n",
    "print(\"Mean error for spline interpolation is\",mean_err_spline)"
   ]
  },
  {
   "cell_type": "markdown",
   "metadata": {},
   "source": [
    "### Interpolate using rational"
   ]
  },
  {
   "cell_type": "code",
   "execution_count": 18,
   "metadata": {},
   "outputs": [
    {
     "name": "stdout",
     "output_type": "stream",
     "text": [
      "Mean error for rational interpolation is 4.04464824874605\n"
     ]
    },
    {
     "data": {
      "image/png": "[encoded data removed]",
      "text/plain": [
       "<Figure size 432x288 with 1 Axes>"
      ]
     },
     "metadata": {
      "needs_background": "light"
     },
     "output_type": "display_data"
    }
   ],
   "source": [
    "#Set the cooeficient of the rational function\n",
    "n = int(nb_pts/2)\n",
    "m = int(nb_pts/2 + 1)\n",
    "p,q=rat_fit(x,y,n,m)\n",
    "\n",
    "yy = rat_eval(p,q,xx)\n",
    "\n",
    "plt.plot(x,y,\"b*\")\n",
    "plt.plot(xx,yy,\"k\")\n",
    "\n",
    "mean_err_rat = np.mean(np.abs(yy-yy_real))\n",
    "print(\"Mean error for rational interpolation is\",mean_err_rat)"
   ]
  },
  {
   "cell_type": "code",
   "execution_count": 19,
   "metadata": {},
   "outputs": [
    {
     "name": "stdout",
     "output_type": "stream",
     "text": [
      "Mean error for rational (pinv) interpolation is 6.119302230679391e-10\n"
     ]
    },
    {
     "data": {
      "image/png": "[encoded data removed]",
      "text/plain": [
       "<Figure size 432x288 with 1 Axes>"
      ]
     },
     "metadata": {
      "needs_background": "light"
     },
     "output_type": "display_data"
    }
   ],
   "source": [
    "#Obtain the coeffient of the rational function\n",
    "def rat_fit(x,y,n,m):\n",
    "    assert(len(x)==n+m-1)\n",
    "    assert(len(y)==len(x))\n",
    "    mat = np.zeros([n+m-1,n+m-1])\n",
    "    for i in range(n):\n",
    "        mat[:,i] = x**i\n",
    "    for i in range(1,m):\n",
    "        mat[:,i-1+n] = -y*x**i\n",
    "    pars=np.dot(np.linalg.pinv(mat),y) #Now using np.linalg.pinv()\n",
    "    p=pars[:n]\n",
    "    q=pars[n:]\n",
    "    return p,q\n",
    "\n",
    "#Set the cooeficient of the rational function\n",
    "n = int(nb_pts/2)\n",
    "m = int(nb_pts/2 + 1)\n",
    "p,q=rat_fit(x,y,n,m)\n",
    "\n",
    "yy = rat_eval(p,q,xx)\n",
    "\n",
    "plt.plot(x,y,\"b*\")\n",
    "plt.plot(xx,yy,\"k\")\n",
    "\n",
    "mean_err_rat_pinv = np.mean(np.abs(yy-yy_real))\n",
    "print(\"Mean error for rational (pinv) interpolation is\",mean_err_rat_pinv)"
   ]
  },
  {
   "cell_type": "code",
   "execution_count": 20,
   "metadata": {
    "scrolled": true
   },
   "outputs": [
    {
     "data": {
      "text/plain": [
       "(3.537485475008008e-07,\n",
       " 3.476835660967541e-08,\n",
       " 4.04464824874605,\n",
       " 6.119302230679391e-10)"
      ]
     },
     "execution_count": 20,
     "metadata": {},
     "output_type": "execute_result"
    }
   ],
   "source": [
    "error = (mean_err_poly, mean_err_spline, mean_err_rat, mean_err_rat_pinv)\n",
    "error"
   ]
  },
  {
   "cell_type": "markdown",
   "metadata": {},
   "source": [
    "Comparing these techniques, we obtain that the rational function (with .pinv) gives us the best accuracy. (3 order of magnitude better than the polynomial and 2 order better than the spline.) The change in the linalg function is however essential since the rational is not able to deal with the Lorentzian otherwise."
   ]
  },
  {
   "cell_type": "markdown",
   "metadata": {},
   "source": [
    "# Problem 4 (COMPLETED)\n",
    "One can work out the electric field from an infinitessimally\n",
    "thin spherical shell of charge with radius R by working out the field from a ring\n",
    "along its central axis, and integrating those rings to form a spherical shell. Use\n",
    "both your integrator and scipy.integrate.quad to plot the electric field from the\n",
    "shell as a function of distance from the center of the sphere. Make sure the\n",
    "range of your plot covers regions with z < R and z > R. Make sure one of your\n",
    "1\n",
    "z values is R. Is there a singularity in the integral? Does quad care? Does your\n",
    "integrator? Note - if you get stuck setting up the problem, you may be able to\n",
    "find solutions to Griffiths problem 2.7, which sets up the integral."
   ]
  },
  {
   "cell_type": "code",
   "execution_count": 21,
   "metadata": {},
   "outputs": [],
   "source": [
    "# We know that the E field of a thin shell with charge Q is:\n",
    "# E_in = 0 (inside ; z<R)\n",
    "# E_out = kQ/z^2 (outside ; z>R ; This is the same result as a point charge)\n",
    "# where\n",
    "k = 1/(4*np.pi*8.85418782*10**-12) #(Constant)\n",
    "Q = 1 #(Charge of the shell, here defined as 1)\n",
    "R = 1 #(Radius of the shell, here defined as 1)\n",
    "z = np.linspace(-9, 9, 73) #(distance from center of the shell)"
   ]
  },
  {
   "cell_type": "code",
   "execution_count": 22,
   "metadata": {},
   "outputs": [
    {
     "data": {
      "text/plain": [
       "<matplotlib.legend.Legend at 0x2947ce15358>"
      ]
     },
     "execution_count": 22,
     "metadata": {},
     "output_type": "execute_result"
    },
    {
     "data": {
      "image/png": "[encoded data removed]",
      "text/plain": [
       "<Figure size 432x288 with 1 Axes>"
      ]
     },
     "metadata": {
      "needs_background": "light"
     },
     "output_type": "display_data"
    }
   ],
   "source": [
    "# First we expect the answer of the integration to give the result of the point charge for abs(z)>R\n",
    "E_truth = k*Q/(z**2)\n",
    "plt.plot(z,E_truth,\"y*\",label = \"Point charge\")\n",
    "plt.vlines(R,-0.1e10,2.5e10,'r',label = \"R = {}\".format(R))\n",
    "plt.vlines(-R,-0.1e10,2.5e10,'r')\n",
    "plt.legend()"
   ]
  },
  {
   "cell_type": "code",
   "execution_count": 23,
   "metadata": {},
   "outputs": [],
   "source": [
    "#The thin ring E field is:\n",
    "#E_ring = k dQ h /(r^2 + h^2)^3/2\n",
    "# where\n",
    "# h is the perpendicular distance from the center of the ring\n",
    "# r is the radius of the ring\n",
    "# ---\n",
    "# Using above variables (R and z) as well as an angle theta going from 0 to pi, we can redefine h and r:\n",
    "# h = z + Rcos(theta)\n",
    "# r = Rsin(theta)\n",
    "# ---\n",
    "# Now, let's find the integrad using the thin ring field:\n",
    "# dE = k dQ h / (r^2 + h^2)^3/2\n",
    "#    = k dQ (z + Rcos(theta)) / ((Rsin(theta))^2 + (z + Rcos(theta))^2)^3/2\n",
    "#    = k dQ (z + Rcos(theta)) / (R^2sin^2(theta) + z^2 + R^2cos^2(theta)  + 2zRcos(theta))^3/2\n",
    "#    = k dQ (z + Rcos(theta)) / (R^2 + z^2 + 2zRcos(theta))^3/2\n",
    "\n",
    "# Now, to find dQ, knowing the total charge Q of the sphere, we can take the\n",
    "# ratio of the area of a thin ring over the area of the whole sphere:\n",
    "# dQ/Q = 2*pi*r * Rd(theta) / (4piR^2)\n",
    "# dQ = 2Qpi(Rsin(theta))R d(theta) / (4piR^2) \n",
    "# dQ = Q sin(theta) d(theta) / 2 \n",
    "\n",
    "#pluging this back into dE:\n",
    "\n",
    "# dE = k (Q/2)sin(theta) (z + Rcos(theta)) / (R^2 + z^2 + 2zRcos(theta))^3/2\n",
    "\n",
    "# Integrating this from theta = 0 to theta = pi, we thus obtain the field for \n",
    "# a thin sphere!\n",
    "\n",
    "# Note : for conciseness, \"theta\" will be defined as \"x\" below."
   ]
  },
  {
   "cell_type": "code",
   "execution_count": 24,
   "metadata": {},
   "outputs": [],
   "source": [
    "def dE(x,z,R):\n",
    "    return k*Q*0.5*np.sin(x)*(np.abs(z) + R*np.cos(x))/(R**2 + z**2 + 2*R*np.abs(z)*np.cos(x))**(3/2)\n",
    "# Note: the abs(z) is taken to be sure that the E field remains positive. There is no such things as \"negative z\" by symmetry."
   ]
  },
  {
   "cell_type": "code",
   "execution_count": 34,
   "metadata": {
    "scrolled": true
   },
   "outputs": [
    {
     "name": "stdout",
     "output_type": "stream",
     "text": [
      "E(R) = [nan]\n"
     ]
    },
    {
     "data": {
      "image/png": "[encoded data removed]",
      "text/plain": [
       "<Figure size 432x288 with 1 Axes>"
      ]
     },
     "metadata": {
      "needs_background": "light"
     },
     "output_type": "display_data"
    }
   ],
   "source": [
    "# Integration using our integrator (simpson's rule)\n",
    "E_s = z*0\n",
    "nb_pts = 1e6\n",
    "for i in range(len(z)):\n",
    "    x = np.linspace(0,np.pi,nb_pts)\n",
    "    f = dE(x,z[i],R)\n",
    "    dx = np.mean(np.diff(x))\n",
    "    E_s[i] = (dx/3.0*(f[0] + f[-1] + 4*np.sum(f[1::2]) + 2*np.sum(f[2:-1:2])))\n",
    "\n",
    "#plot resulting field\n",
    "ymin = -0.5e9\n",
    "ymax = 8e9\n",
    "\n",
    "plt.plot(z,E_s,'ob')\n",
    "plt.vlines(R,ymin,ymax,'r',label = \"R = {}\".format(R))\n",
    "plt.vlines(-R,ymin,ymax,'r')\n",
    "\n",
    "# To check what happen at R:\n",
    "index = np.where(z == R)\n",
    "print(\"E(R) =\",E_s[index])"
   ]
  },
  {
   "cell_type": "markdown",
   "metadata": {},
   "source": [
    "The integral does not work at z = R. (Returns [nan])"
   ]
  },
  {
   "cell_type": "code",
   "execution_count": 35,
   "metadata": {
    "scrolled": false
   },
   "outputs": [
    {
     "name": "stdout",
     "output_type": "stream",
     "text": [
      "E(R) = [4.49377589e+09]\n"
     ]
    },
    {
     "data": {
      "image/png": "[encoded data removed]",
      "text/plain": [
       "<Figure size 432x288 with 1 Axes>"
      ]
     },
     "metadata": {
      "needs_background": "light"
     },
     "output_type": "display_data"
    }
   ],
   "source": [
    "# Integration using integrate.quad()\n",
    "E_quad = z*0\n",
    "for i in range(len(z)):\n",
    "    [E_i,error] = integrate.quad(dE,0,np.pi,args=(z[i],R))\n",
    "    E_i = E_i\n",
    "    E_quad[i] = E_i\n",
    "    \n",
    "#plot resulting field\n",
    "ymin = -0.5e9\n",
    "ymax = 8e9\n",
    "\n",
    "plt.plot(z,E_quad,\"k+\")\n",
    "plt.vlines(R,ymin,ymax,'r',label = \"R = {}\".format(R))\n",
    "plt.vlines(-R,ymin,ymax,'r')\n",
    "\n",
    "# To check what happen at R:\n",
    "index = np.where(z == R)\n",
    "print(\"E(R) =\",E_quad[index])"
   ]
  },
  {
   "cell_type": "markdown",
   "metadata": {},
   "source": [
    "The integral does work at z = R, but returns a value btw the maximum value reach outside and the 0  value reached inside of the shell."
   ]
  },
  {
   "cell_type": "code",
   "execution_count": 36,
   "metadata": {},
   "outputs": [
    {
     "name": "stdout",
     "output_type": "stream",
     "text": [
      "Error in Simpson's integration: 0.0059659602120518684  / Error in Quad inegration: 2.798624336719513e-07\n"
     ]
    }
   ],
   "source": [
    "# Calculating error; Only using values >R to avoid any problem.\n",
    "error_s = np.mean(np.abs(E_s[index[0][0]+1:] - E_truth[index[0][0]+1:]))\n",
    "error_quad = np.mean(np.abs(E_quad[index[0][0]+1:] - E_truth[index[0][0]+1:]))\n",
    "print(\"Error in Simpson's integration:\",error_s,\" / Error in Quad inegration:\",error_quad)"
   ]
  },
  {
   "cell_type": "code",
   "execution_count": 37,
   "metadata": {
    "scrolled": false
   },
   "outputs": [
    {
     "data": {
      "text/plain": [
       "<matplotlib.legend.Legend at 0x2947cffdc88>"
      ]
     },
     "execution_count": 37,
     "metadata": {},
     "output_type": "execute_result"
    },
    {
     "data": {
      "image/png": "[encoded data removed]",
      "text/plain": [
       "<Figure size 432x288 with 1 Axes>"
      ]
     },
     "metadata": {
      "needs_background": "light"
     },
     "output_type": "display_data"
    }
   ],
   "source": [
    "ymin = -0.1e10\n",
    "ymax = 2.5e10\n",
    "\n",
    "plt.plot(z,E_s,'ob', label = \"Simpson's rule integration\")\n",
    "plt.plot(z,E_quad,\"k+\",label = \"Quad integrator\")\n",
    "plt.plot(z,E_truth,\"y*\",label = \"Point charge E Field\")\n",
    "plt.vlines(R,ymin,ymax,'r',label = \"R = {}\".format(R))\n",
    "plt.vlines(-R,ymin,ymax,'r')\n",
    "plt.ylim(ymin,ymax)\n",
    "plt.legend()"
   ]
  }
 ],
 "metadata": {
  "kernelspec": {
   "display_name": "Python 3",
   "language": "python",
   "name": "python3"
  },
  "language_info": {
   "codemirror_mode": {
    "name": "ipython",
    "version": 3
   },
   "file_extension": ".py",
   "mimetype": "text/x-python",
   "name": "python",
   "nbconvert_exporter": "python",
   "pygments_lexer": "ipython3",
   "version": "3.7.3"
  }
 },
 "nbformat": 4,
 "nbformat_minor": 2
}
