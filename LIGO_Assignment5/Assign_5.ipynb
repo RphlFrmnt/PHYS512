{
 "cells": [
  {
   "cell_type": "markdown",
   "metadata": {},
   "source": [
    "# Header"
   ]
  },
  {
   "cell_type": "code",
   "execution_count": 13,
   "metadata": {},
   "outputs": [],
   "source": [
    "import numpy as np\n",
    "import matplotlib.pyplot as plt\n",
    "import os\n",
    "from scipy import signal\n",
    "from scipy.interpolate import interp1d\n",
    "from scipy.signal import butter, filtfilt, iirdesign, zpk2tf, freqz\n",
    "import h5py\n",
    "import json\n",
    "#import spinmob as s\n",
    "#import camb\n",
    "#import time\n",
    "#%matplotlib notebook\n",
    "\n",
    "# Import LIGO stuff\n",
    "import readligo as rl"
   ]
  },
  {
   "cell_type": "code",
   "execution_count": 14,
   "metadata": {},
   "outputs": [
    {
     "data": {
      "text/plain": [
       "'D:\\\\Raphael\\\\Dropbox\\\\Mcgill\\\\JupyterNotebook\\\\PHYS512\\\\LIGO_Assignment5'"
      ]
     },
     "execution_count": 14,
     "metadata": {},
     "output_type": "execute_result"
    }
   ],
   "source": [
    "# check directory\n",
    "os.chdir(\"D:\\Raphael\\Dropbox\\Mcgill\\JupyterNotebook\\PHYS512\\LIGO_Assignment5\")\n",
    "os.getcwd()"
   ]
  },
  {
   "cell_type": "markdown",
   "metadata": {},
   "source": [
    "# Functions"
   ]
  },
  {
   "cell_type": "code",
   "execution_count": 15,
   "metadata": {},
   "outputs": [],
   "source": [
    "# Gaussian fonction\n",
    "def Gaus(x,a,b,c):\n",
    "    return a*np.exp(-(x-b)**2/(2*c**2))"
   ]
  },
  {
   "cell_type": "code",
   "execution_count": 16,
   "metadata": {},
   "outputs": [],
   "source": [
    "# Class function\n",
    "def read_template(filename):\n",
    "    dataFile=h5py.File(filename,'r')\n",
    "    template=dataFile['template']\n",
    "    th=template[0]\n",
    "    tl=template[1]\n",
    "    return th,tl\n",
    "def read_file(filename):\n",
    "    dataFile=h5py.File(filename,'r')\n",
    "    dqInfo = dataFile['quality']['simple']\n",
    "    qmask=dqInfo['DQmask'][...]\n",
    "\n",
    "    meta=dataFile['meta']\n",
    "    #gpsStart=meta['GPSstart'].value\n",
    "    gpsStart=meta['GPSstart'][()]\n",
    "    #print meta.keys()\n",
    "    #utc=meta['UTCstart'].value\n",
    "    utc=meta['UTCstart'][()]\n",
    "    #duration=meta['Duration'].value\n",
    "    duration=meta['Duration'][()]\n",
    "    #strain=dataFile['strain']['Strain'].value\n",
    "    strain=dataFile['strain']['Strain'][()]\n",
    "    dt=(1.0*duration)/len(strain)\n",
    "\n",
    "    dataFile.close()\n",
    "    return strain,dt,utc\n",
    "def smooth_vec(a,npix,kind='boxcar'):\n",
    "    aft=np.fft.rfft(a)\n",
    "    if kind=='boxcar':\n",
    "        vec=np.zeros(len(a))\n",
    "        vec[:npix]=1\n",
    "        vec[-npix+1]=1\n",
    "        vec=vec/np.sum(vec)\n",
    "    vecft=np.fft.rfft(vec)\n",
    "    return np.fft.irfft(vecft*aft,len(a))"
   ]
  },
  {
   "cell_type": "markdown",
   "metadata": {},
   "source": [
    "Key will be getting LIGO data from:\n",
    "\n",
    "https://www.gw-openscience.org/static/events/LOSC_Event_tutorial.zip\n",
    "\n",
    "While they include code to do much of this, please don’t use it (although\n",
    "you may look at it for inspiration) and instead write your own. You can\n",
    "look at/use simple read ligo.py that I have posted for concise code to read\n",
    "the hdf5 files. Feel free to have your code loop over the events and print the\n",
    "answer to each part for that event. In order to make our life easy, in case\n",
    "we have to re-run your code (which we should not have to do), please also\n",
    "have a variable at the top of your code that sets the directory where you\n",
    "have unzipped the data.\n",
    "# Question 1\n",
    "Find gravitational waves! Parts should include\n",
    "## a)\n",
    "Come up with a noise model for Livingston and Hanford separately.\n",
    "Describe in comments how you go about doing this. Please mention something about how you smooth the power spectrum and how you deal with\n",
    "lines (if at all). Please also explain how you window the data (you may want\n",
    "to use a window that has an extended flat period near the center to avoid\n",
    "tapering the data/template where the signal is not small)."
   ]
  },
  {
   "cell_type": "code",
   "execution_count": 66,
   "metadata": {},
   "outputs": [
    {
     "data": {
      "text/plain": [
       "{'name': 'GW150914',\n",
       " 'fn_H1': 'H-H1_LOSC_4_V2-1126259446-32.hdf5',\n",
       " 'fn_L1': 'L-L1_LOSC_4_V2-1126259446-32.hdf5',\n",
       " 'fn_template': 'GW150914_4_template.hdf5',\n",
       " 'fs': 4096,\n",
       " 'tevent': 1126259462.44,\n",
       " 'utcevent': '2015-09-14T09:50:45.44',\n",
       " 'm1': 41.743,\n",
       " 'm2': 29.237,\n",
       " 'a1': 0.355,\n",
       " 'a2': -0.769,\n",
       " 'approx': 'lalsim.SEOBNRv2',\n",
       " 'fband': [43.0, 300.0],\n",
       " 'f_min': 10.0}"
      ]
     },
     "execution_count": 66,
     "metadata": {},
     "output_type": "execute_result"
    }
   ],
   "source": [
    "# First let's load the an even:\n",
    "\n",
    "#Select an event:\n",
    "eventname = 'GW150914'\n",
    "#eventname = 'GW151226' \n",
    "#eventname = 'LVT151012'\n",
    "#eventname = 'GW170104'\n",
    "\n",
    "#Load the event\n",
    "json_name = \"BBH_events_v3.json\"\n",
    "events = json.load(open(json_name,\"r\"))\n",
    "\n",
    "# Extract the event's parameters:\n",
    "event = events[eventname]\n",
    "fn_H1 = event['fn_H1']              # File name for H1 data (.hdf5 file)\n",
    "fn_L1 = event['fn_L1']              # File name for L1 data (.hdf5 file)\n",
    "fn_template = event['fn_template']  # File name for template waveform (.hdf5 file)\n",
    "fs = event['fs']                    # Set sampling rate\n",
    "tevent = event['tevent']            # Set approximate event GPS time\n",
    "utcevent = event['utcevent']        # Date of event\n",
    "m1 = event['m1']\n",
    "m2 = event['m2']\n",
    "a1 = event['a1']\n",
    "a2 = event['a2']\n",
    "approx = event['approx']\n",
    "fband = event['fband']              # frequency band for bandpassing signal\n",
    "f_min = event['f_min']\n",
    "events[eventname]"
   ]
  },
  {
   "cell_type": "code",
   "execution_count": 67,
   "metadata": {},
   "outputs": [
    {
     "name": "stdout",
     "output_type": "stream",
     "text": [
      "Data of event GW150914 loaded\n"
     ]
    }
   ],
   "source": [
    "# Now, let's load the data for our selected event\n",
    "strain_H1, time_H1, chan_dict_H1 = rl.loaddata(fn_H1, 'H1')\n",
    "strain_L1, time_L1, chan_dict_L1 = rl.loaddata(fn_L1, 'L1')\n",
    "# load expected signal\n",
    "template_name='{}_4_template.hdf5'.format(eventname)\n",
    "th,tl=read_template(template_name)\n",
    "print(\"Data of event {} loaded\".format(eventname))"
   ]
  },
  {
   "cell_type": "code",
   "execution_count": 68,
   "metadata": {},
   "outputs": [],
   "source": [
    "# Time vector of Livingston and Hanford are identical\n",
    "time = time_H1"
   ]
  },
  {
   "cell_type": "code",
   "execution_count": 69,
   "metadata": {},
   "outputs": [
    {
     "data": {
      "text/plain": [
       "Text(0.5, 1.0, 'Advanced LIGO strain data GW150914')"
      ]
     },
     "execution_count": 69,
     "metadata": {},
     "output_type": "execute_result"
    },
    {
     "data": {
      "image/png": "[encoded data removed]",
      "text/plain": [
       "<Figure size 432x288 with 1 Axes>"
      ]
     },
     "metadata": {
      "needs_background": "light"
     },
     "output_type": "display_data"
    }
   ],
   "source": [
    "#Plot data all data. \n",
    "plt.figure()\n",
    "plt.plot(time,strain_H1,'r',label='H1 strain')\n",
    "plt.plot(time,strain_L1,'b',label='L1 strain')\n",
    "plt.xlabel('time (s)')\n",
    "plt.ylabel('strain')\n",
    "plt.legend()\n",
    "plt.title('Advanced LIGO strain data '+eventname)"
   ]
  },
  {
   "cell_type": "code",
   "execution_count": 70,
   "metadata": {},
   "outputs": [],
   "source": [
    "# Let's change the strain L1 s.t. all data is centered around 0\n",
    "strain_L1 = strain_L1 - np.average(strain_L1)"
   ]
  },
  {
   "cell_type": "code",
   "execution_count": 71,
   "metadata": {},
   "outputs": [
    {
     "data": {
      "text/plain": [
       "Text(0.5, 1.0, 'Advanced LIGO strain data GW150914')"
      ]
     },
     "execution_count": 71,
     "metadata": {},
     "output_type": "execute_result"
    },
    {
     "data": {
      "image/png": "[encoded data removed]",
      "text/plain": [
       "<Figure size 432x288 with 1 Axes>"
      ]
     },
     "metadata": {
      "needs_background": "light"
     },
     "output_type": "display_data"
    }
   ],
   "source": [
    "#Plot data all data. \n",
    "plt.figure()\n",
    "plt.plot(time,strain_H1,'r',label='H1 strain')\n",
    "plt.plot(time,strain_L1,'b',label='L1 strain')\n",
    "plt.xlabel('time (s)')\n",
    "plt.ylabel('strain')\n",
    "plt.legend()\n",
    "plt.title('Advanced LIGO strain data '+eventname)"
   ]
  },
  {
   "cell_type": "code",
   "execution_count": 99,
   "metadata": {},
   "outputs": [],
   "source": [
    "# For ease, let's map the time to something more easy to work with;\n",
    "lim = np.pi+0.5\n",
    "x = np.linspace(-lim,lim,len(time))"
   ]
  },
  {
   "cell_type": "code",
   "execution_count": 100,
   "metadata": {},
   "outputs": [
    {
     "data": {
      "text/plain": [
       "[<matplotlib.lines.Line2D at 0x1920f5817b8>]"
      ]
     },
     "execution_count": 100,
     "metadata": {},
     "output_type": "execute_result"
    },
    {
     "data": {
      "image/png": "[encoded data removed]",
      "text/plain": [
       "<Figure size 432x288 with 1 Axes>"
      ]
     },
     "metadata": {
      "needs_background": "light"
     },
     "output_type": "display_data"
    }
   ],
   "source": [
    "# First let's define the window. The window is a cos function in which a flat part has been inserted at the maximum.\n",
    "def win1(x,a,b):\n",
    "    if a>b:\n",
    "        print(\"Error: a > b\")\n",
    "        return 0\n",
    "    x_wind1 = np.copy(x)\n",
    "    for i in range(len(x)):\n",
    "        if x[i]<=a:\n",
    "            x_wind1[i] = 0.5 + 0.5*np.cos(x[i]-a)\n",
    "        elif x[i]>=b:\n",
    "            x_wind1[i] = 0.5 + 0.5*np.cos(x[i]-b)\n",
    "        else:\n",
    "            x_wind1[i] = 1\n",
    "    return x_wind1\n",
    "# window for a flat part centered arount the event (+/- gap)  \n",
    "a = 0.5\n",
    "win = win1(x,-a,a)\n",
    "\n",
    "#plot window\n",
    "plt.plot(x,win)"
   ]
  },
  {
   "cell_type": "code",
   "execution_count": 101,
   "metadata": {},
   "outputs": [
    {
     "data": {
      "text/plain": [
       "<matplotlib.legend.Legend at 0x1921170a978>"
      ]
     },
     "execution_count": 101,
     "metadata": {},
     "output_type": "execute_result"
    },
    {
     "data": {
      "image/png": "[encoded data removed]",
      "text/plain": [
       "<Figure size 432x288 with 4 Axes>"
      ]
     },
     "metadata": {
      "needs_background": "light"
     },
     "output_type": "display_data"
    }
   ],
   "source": [
    "# apply window on strain\n",
    "st_H1_win = strain_H1 * win\n",
    "st_L1_win = strain_L1 * win\n",
    "\n",
    "# apply window on signal\n",
    "sg_H1_win = th * win\n",
    "sg_L1_win = tl * win\n",
    "\n",
    "#Plot\n",
    "fig, ax = plt.subplots(2, 2)\n",
    "ax[0,0].plot(x,strain_H1,label=\"before window\")\n",
    "ax[0,0].plot(x,st_H1_win,label=\"after window\")\n",
    "ax[0,1].plot(x,th,label=\"before window\")\n",
    "ax[0,1].plot(x,sg_H1_win,label=\"after window\")\n",
    "ax[1,0].plot(x,strain_L1,label=\"before window\")\n",
    "ax[1,0].plot(x,st_L1_win,label=\"after window\")\n",
    "ax[1,1].plot(x,tl,label=\"before window\")\n",
    "ax[1,1].plot(x,sg_L1_win,label=\"after window\")\n",
    "ax[1,1].legend()"
   ]
  },
  {
   "cell_type": "code",
   "execution_count": 76,
   "metadata": {},
   "outputs": [],
   "source": [
    "# Fourrier tranform the strain\n",
    "ft_st_H1_win = np.fft.rfft(st_H1_win)\n",
    "ft_st_L1_win = np.fft.rfft(st_L1_win)\n",
    "# Fourrier tranform the signal\n",
    "ft_sg_H1_win = np.fft.rfft(sg_H1_win)\n",
    "ft_sg_L1_win = np.fft.rfft(sg_L1_win)"
   ]
  },
  {
   "cell_type": "code",
   "execution_count": null,
   "metadata": {},
   "outputs": [],
   "source": [
    "# Noise model\n",
    "# Let's define the noise as:\n",
    "N = np.abs()"
   ]
  },
  {
   "cell_type": "markdown",
   "metadata": {},
   "source": [
    "## b)\n",
    "Use that noise model to search the four sets of events using a matched\n",
    "filter. The mapping between data and templates can be found in the file\n",
    "BBH events v3.json, included in the zipfile."
   ]
  },
  {
   "cell_type": "code",
   "execution_count": null,
   "metadata": {},
   "outputs": [],
   "source": []
  },
  {
   "cell_type": "code",
   "execution_count": null,
   "metadata": {},
   "outputs": [],
   "source": []
  },
  {
   "cell_type": "markdown",
   "metadata": {},
   "source": [
    "## c)\n",
    "Estimate a noise for each event, and from the output of the matched\n",
    "filter, give a signal-to-noise ratio for each event, both from the individual\n",
    "detectors, and from the combined Livingston + Hanford events."
   ]
  },
  {
   "cell_type": "code",
   "execution_count": null,
   "metadata": {},
   "outputs": [],
   "source": []
  },
  {
   "cell_type": "code",
   "execution_count": null,
   "metadata": {},
   "outputs": [],
   "source": []
  },
  {
   "cell_type": "markdown",
   "metadata": {},
   "source": [
    "## d)\n",
    "Compare the signal-to-noise you get from the scatter in the matched\n",
    "filter to the analytic signal-to-noise you expect from your noise model. How\n",
    "close are they? If they disagree, can you explain why?"
   ]
  },
  {
   "cell_type": "code",
   "execution_count": null,
   "metadata": {},
   "outputs": [],
   "source": []
  },
  {
   "cell_type": "code",
   "execution_count": null,
   "metadata": {},
   "outputs": [],
   "source": []
  },
  {
   "cell_type": "markdown",
   "metadata": {},
   "source": [
    "## e)\n",
    "From the template and noise model, find the frequency from each event\n",
    "where half the weight comes from above that frequency and half below."
   ]
  },
  {
   "cell_type": "code",
   "execution_count": null,
   "metadata": {},
   "outputs": [],
   "source": []
  },
  {
   "cell_type": "code",
   "execution_count": null,
   "metadata": {},
   "outputs": [],
   "source": []
  },
  {
   "cell_type": "markdown",
   "metadata": {},
   "source": [
    "## f)\n",
    "How well can you localize the time of arrival (the horizontal shift of\n",
    "your matched filter). The positions of gravitational wave events are inferred\n",
    "by comparing their arrival times at different detectors. What is the typical\n",
    "positional uncertainy you might expect given that the detectors area a few\n",
    "thousand km apart?"
   ]
  },
  {
   "cell_type": "code",
   "execution_count": null,
   "metadata": {},
   "outputs": [],
   "source": []
  },
  {
   "cell_type": "code",
   "execution_count": null,
   "metadata": {},
   "outputs": [],
   "source": []
  },
  {
   "cell_type": "markdown",
   "metadata": {},
   "source": [
    "# Stuff"
   ]
  },
  {
   "cell_type": "code",
   "execution_count": null,
   "metadata": {},
   "outputs": [],
   "source": [
    "# define timestep\n",
    "dt = time[1]-time[0]\n",
    "\n",
    "# Define a region around the event (+/- t_interv around event.)\n",
    "t_interv = 5\n",
    "indxt = np.where((time >= tevent-t_interv) & (time < tevent+t_interv))\n",
    "\n",
    "#Plot data around event. \n",
    "plt.figure()\n",
    "plt.plot(time[indxt]-tevent,strain_H1[indxt],'r',label='H1 strain')\n",
    "plt.plot(time[indxt]-tevent,strain_L1[indxt],'b',label='L1 strain')\n",
    "plt.xlabel('time (s) since '+str(tevent))\n",
    "plt.ylabel('strain')\n",
    "plt.legend()\n",
    "plt.title('Advanced LIGO strain data near '+eventname)"
   ]
  }
 ],
 "metadata": {
  "kernelspec": {
   "display_name": "Python 3",
   "language": "python",
   "name": "python3"
  },
  "language_info": {
   "codemirror_mode": {
    "name": "ipython",
    "version": 3
   },
   "file_extension": ".py",
   "mimetype": "text/x-python",
   "name": "python",
   "nbconvert_exporter": "python",
   "pygments_lexer": "ipython3",
   "version": "3.7.3"
  }
 },
 "nbformat": 4,
 "nbformat_minor": 2
}
