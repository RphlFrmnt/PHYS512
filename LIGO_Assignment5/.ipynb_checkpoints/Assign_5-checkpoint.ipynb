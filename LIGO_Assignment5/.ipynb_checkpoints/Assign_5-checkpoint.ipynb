{
 "cells": [
  {
   "cell_type": "markdown",
   "metadata": {},
   "source": [
    "# Header"
   ]
  },
  {
   "cell_type": "code",
   "execution_count": 1,
   "metadata": {},
   "outputs": [],
   "source": [
    "import numpy as np\n",
    "import matplotlib.pyplot as plt\n",
    "import os\n",
    "from scipy import signal\n",
    "from scipy.interpolate import interp1d\n",
    "from scipy.signal import butter, filtfilt, iirdesign, zpk2tf, freqz\n",
    "import h5py\n",
    "import json\n",
    "#import spinmob as s\n",
    "#import camb\n",
    "#import time\n",
    "#%matplotlib notebook\n",
    "\n",
    "# Import LIGO stuff\n",
    "import readligo as rl"
   ]
  },
  {
   "cell_type": "code",
   "execution_count": 7,
   "metadata": {},
   "outputs": [
    {
     "data": {
      "text/plain": [
       "'D:\\\\Raphael\\\\Dropbox\\\\Mcgill\\\\JupyterNotebook\\\\PHYS512\\\\LIGO_Assignment5'"
      ]
     },
     "execution_count": 7,
     "metadata": {},
     "output_type": "execute_result"
    }
   ],
   "source": [
    "# check directory\n",
    "os.chdir(\"D:\\Raphael\\Dropbox\\Mcgill\\JupyterNotebook\\PHYS512\\LIGO_Assignment5\")\n",
    "os.getcwd()"
   ]
  },
  {
   "cell_type": "markdown",
   "metadata": {},
   "source": [
    "# Functions"
   ]
  },
  {
   "cell_type": "code",
   "execution_count": 8,
   "metadata": {},
   "outputs": [],
   "source": [
    "# Gaussian fonction\n",
    "def Gaus(x,a,b,c):\n",
    "    return a*np.exp(-(x-b)**2/(2*c**2))"
   ]
  },
  {
   "cell_type": "markdown",
   "metadata": {},
   "source": [
    "Key will be getting LIGO data from:\n",
    "\n",
    "https://www.gw-openscience.org/static/events/LOSC_Event_tutorial.zip\n",
    "\n",
    "While they include code to do much of this, please don’t use it (although\n",
    "you may look at it for inspiration) and instead write your own. You can\n",
    "look at/use simple read ligo.py that I have posted for concise code to read\n",
    "the hdf5 files. Feel free to have your code loop over the events and print the\n",
    "answer to each part for that event. In order to make our life easy, in case\n",
    "we have to re-run your code (which we should not have to do), please also\n",
    "have a variable at the top of your code that sets the directory where you\n",
    "have unzipped the data.\n",
    "# Question 1\n",
    "Find gravitational waves! Parts should include\n",
    "## a)\n",
    "Come up with a noise model for Livingston and Hanford separately.\n",
    "Describe in comments how you go about doing this. Please mention something about how you smooth the power spectrum and how you deal with\n",
    "lines (if at all). Please also explain how you window the data (you may want\n",
    "to use a window that has an extended flat period near the center to avoid\n",
    "tapering the data/template where the signal is not small)."
   ]
  },
  {
   "cell_type": "code",
   "execution_count": 22,
   "metadata": {},
   "outputs": [
    {
     "data": {
      "text/plain": [
       "{'name': 'GW150914',\n",
       " 'fn_H1': 'H-H1_LOSC_4_V2-1126259446-32.hdf5',\n",
       " 'fn_L1': 'L-L1_LOSC_4_V2-1126259446-32.hdf5',\n",
       " 'fn_template': 'GW150914_4_template.hdf5',\n",
       " 'fs': 4096,\n",
       " 'tevent': 1126259462.44,\n",
       " 'utcevent': '2015-09-14T09:50:45.44',\n",
       " 'm1': 41.743,\n",
       " 'm2': 29.237,\n",
       " 'a1': 0.355,\n",
       " 'a2': -0.769,\n",
       " 'approx': 'lalsim.SEOBNRv2',\n",
       " 'fband': [43.0, 300.0],\n",
       " 'f_min': 10.0}"
      ]
     },
     "execution_count": 22,
     "metadata": {},
     "output_type": "execute_result"
    }
   ],
   "source": [
    "# First let's load the an even:\n",
    "\n",
    "#Select an event:\n",
    "eventname = 'GW150914'\n",
    "#eventname = 'GW151226' \n",
    "#eventname = 'LVT151012'\n",
    "#eventname = 'GW170104'\n",
    "\n",
    "#Load the event\n",
    "json_name = \"BBH_events_v3.json\"\n",
    "events = json.load(open(json_name,\"r\"))\n",
    "\n",
    "# Extract the event's parameters:\n",
    "event = events[eventname]\n",
    "fn_H1 = event['fn_H1']              # File name for H1 data (.hdf5 file)\n",
    "fn_L1 = event['fn_L1']              # File name for L1 data (.hdf5 file)\n",
    "fn_template = event['fn_template']  # File name for template waveform (.hdf5 file)\n",
    "fs = event['fs']                    # Set sampling rate\n",
    "tevent = event['tevent']            # Set approximate event GPS time\n",
    "utcevent = event['utcevent']        # Date of event\n",
    "m1 = event['m1']\n",
    "m2 = event['m2']\n",
    "a1 = event['a1']\n",
    "a2 = event['a2']\n",
    "approx = event['approx']\n",
    "fband = event['fband']              # frequency band for bandpassing signal\n",
    "f_min = event['f_min']\n",
    "events[eventname]"
   ]
  },
  {
   "cell_type": "code",
   "execution_count": 27,
   "metadata": {},
   "outputs": [
    {
     "name": "stdout",
     "output_type": "stream",
     "text": [
      "Data of event GW150914 loaded\n"
     ]
    }
   ],
   "source": [
    "# Now, let's load the data for our selected event\n",
    "strain_H1, time_H1, chan_dict_H1 = rl.loaddata(fn_H1, 'H1')\n",
    "strain_L1, time_L1, chan_dict_L1 = rl.loaddata(fn_L1, 'L1')\n",
    "print(\"Data of event {} loaded\".format(eventname))"
   ]
  },
  {
   "cell_type": "code",
   "execution_count": null,
   "metadata": {},
   "outputs": [],
   "source": [
    "# Time vector of Livingston and Hanford are identical\n",
    "time = time_H1\n",
    "# define timestep\n",
    "dt = time[1]-time[0]\n",
    "\n",
    "# Define a region around the event (+/- t_interv around event.)\n",
    "t_interv = 5\n",
    "indxt = np.where((time >= tevent-t_interv) & (time < tevent+t_interv))\n",
    "\n",
    "#Plot data around event. \n",
    "plt.figure()\n",
    "plt.plot(time[indxt]-tevent,strain_H1[indxt],'r',label='H1 strain')\n",
    "plt.plot(time[indxt]-tevent,strain_L1[indxt],'g',label='L1 strain')\n",
    "plt.xlabel('time (s) since '+str(tevent))\n",
    "plt.ylabel('strain')\n",
    "plt.legend(loc='lower right')\n",
    "plt.title('Advanced LIGO strain data near '+eventname)"
   ]
  },
  {
   "cell_type": "markdown",
   "metadata": {},
   "source": [
    "\n"
   ]
  }
 ],
 "metadata": {
  "kernelspec": {
   "display_name": "Python 3",
   "language": "python",
   "name": "python3"
  },
  "language_info": {
   "codemirror_mode": {
    "name": "ipython",
    "version": 3
   },
   "file_extension": ".py",
   "mimetype": "text/x-python",
   "name": "python",
   "nbconvert_exporter": "python",
   "pygments_lexer": "ipython3",
   "version": "3.7.3"
  }
 },
 "nbformat": 4,
 "nbformat_minor": 2
}
